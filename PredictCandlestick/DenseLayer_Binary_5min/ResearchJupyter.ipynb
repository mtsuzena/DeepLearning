{
 "cells": [
  {
   "cell_type": "markdown",
   "metadata": {},
   "source": [
    "# 5 Min Binary Options Predictions on FX"
   ]
  },
  {
   "cell_type": "markdown",
   "metadata": {},
   "source": [
    "## Import required libraries to train deep nerual network"
   ]
  },
  {
   "cell_type": "code",
   "execution_count": 84,
   "metadata": {},
   "outputs": [
    {
     "name": "stdout",
     "output_type": "stream",
     "text": [
      "Numpy version: 1.16.4\n",
      "Pandas version: 0.24.2\n",
      "Matplotlib version: 3.1.0\n",
      "Sklearn version: 0.21.2\n",
      "Keras version: 2.2.4\n"
     ]
    }
   ],
   "source": [
    "import matplotlib\n",
    "import numpy as np\n",
    "import pandas as pd\n",
    "import itertools\n",
    "import sklearn\n",
    "import keras\n",
    "#import tensorflow\n",
    "import time\n",
    "\n",
    "from sklearn.model_selection import train_test_split\n",
    "from keras.models import Sequential\n",
    "from keras.layers import Dense, Dropout\n",
    "from matplotlib import pyplot as plt\n",
    "from sklearn import preprocessing\n",
    "\n",
    "print('Numpy version: ' + np.__version__)\n",
    "print('Pandas version: ' + pd.__version__)\n",
    "print('Matplotlib version: ' + matplotlib.__version__)\n",
    "print('Sklearn version: ' + sklearn.__version__)\n",
    "print('Keras version: ' + keras.__version__)\n",
    "#print('Tensorflow-gpu version: ' + tensorflow.__version__)"
   ]
  },
  {
   "cell_type": "markdown",
   "metadata": {},
   "source": [
    "## Class object to measure time"
   ]
  },
  {
   "cell_type": "code",
   "execution_count": 85,
   "metadata": {},
   "outputs": [],
   "source": [
    "class MeasureTime:\n",
    "    def __init__(self):\n",
    "        self.start = time.time()\n",
    "    def kill(self):\n",
    "        print ('Time elapsed: ' + time.strftime(\"%H:%M:%S\", time.gmtime(time.time()-self.start)))\n",
    "        del self"
   ]
  },
  {
   "cell_type": "code",
   "execution_count": 86,
   "metadata": {},
   "outputs": [],
   "source": [
    "Notebook_timer = MeasureTime()"
   ]
  },
  {
   "cell_type": "markdown",
   "metadata": {},
   "source": [
    "#  "
   ]
  },
  {
   "cell_type": "markdown",
   "metadata": {},
   "source": [
    "# Part 1. - Import data"
   ]
  },
  {
   "cell_type": "markdown",
   "metadata": {},
   "source": [
    "# Feature engineering function"
   ]
  },
  {
   "cell_type": "markdown",
   "metadata": {},
   "source": [
    "    1. Convert OHLC data in to wicks and body sizes of candle stick, also type of candle (Bear or Bull)\n",
    "    2. Convert datetime in to weekday , hour and minute.\n",
    "    3. Calculate RSI\n",
    "    4. Calculate MACD\n",
    "    5. Calculate Bolinger Bands\n",
    "    6. Reshape dataframe (Create 10 more columns with last 10 candle data)\n",
    "    7. Create columns with 11th candle type data (Bear or Bull)\n",
    "    8. Delete OHLC and datetime data\n",
    "    9. Convert to numpay array and return"
   ]
  },
  {
   "cell_type": "markdown",
   "metadata": {},
   "source": [
    "### RSI function - Relative strength index"
   ]
  },
  {
   "cell_type": "code",
   "execution_count": 87,
   "metadata": {},
   "outputs": [],
   "source": [
    "def relative_strength(prices, n=14):\n",
    "\n",
    "    deltas = np.diff(prices)\n",
    "    seed = deltas[:n+1]\n",
    "    up = seed[seed >= 0].sum()/n\n",
    "    down = -seed[seed < 0].sum()/n\n",
    "    rs = up/down\n",
    "    rsi = np.zeros_like(prices)\n",
    "    rsi[:n] = 100. - 100./(1. + rs)\n",
    "\n",
    "    for i in range(n, len(prices)):\n",
    "        delta = deltas[i - 1]  # cause the diff is 1 shorter\n",
    "\n",
    "        if delta > 0:\n",
    "            upval = delta\n",
    "            downval = 0.\n",
    "        else:\n",
    "            upval = 0.\n",
    "            downval = -delta\n",
    "\n",
    "        up = (up*(n - 1) + upval)/n\n",
    "        down = (down*(n - 1) + downval)/n\n",
    "\n",
    "        rs = up/down\n",
    "        rsi[i] = 100. - 100./(1. + rs)\n",
    "\n",
    "    return rsi"
   ]
  },
  {
   "cell_type": "markdown",
   "metadata": {},
   "source": [
    "### MA function - Moving average"
   ]
  },
  {
   "cell_type": "code",
   "execution_count": 88,
   "metadata": {},
   "outputs": [],
   "source": [
    "def moving_average(x, n, type='simple'):\n",
    "\n",
    "    x = np.asarray(x)\n",
    "    if type == 'simple':\n",
    "        weights = np.ones(n)\n",
    "    else:\n",
    "        weights = np.exp(np.linspace(-1., 0., n))\n",
    "\n",
    "    weights /= weights.sum()\n",
    "\n",
    "    a = np.convolve(x, weights, mode='full')[:len(x)]\n",
    "    a[:n] = a[n]\n",
    "    return a"
   ]
  },
  {
   "cell_type": "markdown",
   "metadata": {},
   "source": [
    "### MACD function - Moving average covergance divergance"
   ]
  },
  {
   "cell_type": "code",
   "execution_count": 89,
   "metadata": {},
   "outputs": [],
   "source": [
    "def moving_average_convergence(x, nslow=26, nfast=12):\n",
    "    \n",
    "    emaslow = moving_average(x, nslow, type='exponential')\n",
    "    emafast = moving_average(x, nfast, type='exponential')\n",
    "    return emaslow, emafast, emafast - emaslow"
   ]
  },
  {
   "cell_type": "markdown",
   "metadata": {},
   "source": [
    "## Main feature enginering function"
   ]
  },
  {
   "cell_type": "code",
   "execution_count": 90,
   "metadata": {},
   "outputs": [],
   "source": [
    "def FeatureEnginering(MyRawData):\n",
    "\n",
    "    #calculate time series\n",
    "    #MyRawData['WeekDay'] = ((pd.to_datetime(MyRawData['Gmt time'], format='%d.%m.%Y %H:%M:%S.000', utc=True)).dt.dayofweek.astype(dtype=np.int64)/4)\n",
    "    MyRawData['Gmt time'] = pd.to_datetime(MyRawData['Gmt time'], format='%d.%m.%Y %H:%M:%S.000', utc=True)\n",
    "    #MyRawData['Gmt time'] = MyRawData['Gmt time'].dt.datetime\n",
    "    #MyRawData['Gmt time'] = pd.to_datetime(MyRawData['Gmt time'])\n",
    "    MyRawData['WeekDay'] = (MyRawData['Gmt time'].dt.dayofweek.astype(dtype=np.int64)/4)\n",
    "    MyRawData['Hour'] = (MyRawData['Gmt time'].dt.hour.astype(dtype=np.int64)/23)\n",
    "    MyRawData['Minute'] = (MyRawData['Gmt time'].dt.minute.astype(dtype=np.int64)/59)\n",
    "    print('Step 1: Time conversion to Weekday, Hour, Minute')\n",
    "    \n",
    "    \n",
    "   \n",
    "    \n",
    "    #calculate candle size parameters in pips\n",
    "    MyRawData['BodyPips'] = abs((MyRawData['Open']-MyRawData['Close']) * 10000)\n",
    "    MyRawData['WickUpPips'] = (abs(MyRawData['Open']-MyRawData['High']) * 10000)\n",
    "    MyRawData['WickDownPips'] = (abs(MyRawData['Close']-MyRawData['Low']) * 10000)\n",
    "    #calculate candle type\n",
    "    MyRawData['type'] = 0\n",
    "    MyRawData.loc[MyRawData['Close'] > MyRawData['Open'] , 'type'] = 1\n",
    "    print('Step 2: Calculation Body,Wicks sizes and type of candle')\n",
    "    \n",
    "    MyRawData['EmaSlow'], MyRawData['EmaFast'], MyRawData['MACD'] = moving_average_convergence(MyRawData['Close'].values, nslow=26, nfast=12)                   \n",
    "    print('Step 3: Calculate MACD')\n",
    "    MyRawData['Ema9'] = moving_average(MyRawData['MACD'].values, 9, type='exponential')\n",
    "    print('Step 4: Calculate EMA 9')\n",
    "    MyRawData['RSI'] = relative_strength(MyRawData['Close'].values) \n",
    "    print('Step 5: Calculate RSI')\n",
    "\n",
    "    #create two new DataFrame columns to hold values of upper and lower Bollinger bands\n",
    "    MyRawData=MyRawData[::-1]\n",
    "    MyRawData['Rolling Mean'] = MyRawData['Close'].rolling(window=21).mean()\n",
    "    MyRawData['Bollinger High'] = MyRawData['Close'].rolling(window=21).mean() + (MyRawData['Close'].rolling(window=21).std() * 2)\n",
    "    MyRawData['Bollinger Low'] = MyRawData['Close'].rolling(window=21).mean() - (MyRawData['Close'].rolling(window=21).std() * 2)\n",
    "    MyRawData=MyRawData[::-1]\n",
    "    print('Step 6: Calculate Bolinger Bands')\n",
    "    \n",
    "    #add 10 more history candle sticks\n",
    "    for CandleCount in range(10):\n",
    "        ActualCandleCount = CandleCount + 1\n",
    "        MyRawData['BodyPips' + '_' + str(ActualCandleCount)] = MyRawData['BodyPips'].shift(-ActualCandleCount)\n",
    "        MyRawData['WickUpPips' + '_' + str(ActualCandleCount)] = MyRawData['WickUpPips'].shift(-ActualCandleCount)\n",
    "        MyRawData['WickDownPips' + '_' + str(ActualCandleCount)] = MyRawData['WickDownPips'].shift(-ActualCandleCount)\n",
    "        MyRawData['WeekDay' + '_' + str(ActualCandleCount)] = MyRawData['WeekDay'].shift(-ActualCandleCount)\n",
    "        MyRawData['Hour' + '_' + str(ActualCandleCount)] = MyRawData['Hour'].shift(-ActualCandleCount)\n",
    "        MyRawData['Minute' + '_' + str(ActualCandleCount)] = MyRawData['Minute'].shift(-ActualCandleCount)\n",
    "        MyRawData['type' + '_' + str(ActualCandleCount)] = MyRawData['type'].shift(-ActualCandleCount)\n",
    "        MyRawData['EmaSlow' + '_' + str(ActualCandleCount)] = MyRawData['EmaSlow'].shift(-ActualCandleCount)\n",
    "        MyRawData['EmaFast' + '_' + str(ActualCandleCount)] = MyRawData['EmaFast'].shift(-ActualCandleCount)\n",
    "        MyRawData['MACD' + '_' + str(ActualCandleCount)] = MyRawData['MACD'].shift(-ActualCandleCount)\n",
    "        MyRawData['Ema9' + '_' + str(ActualCandleCount)] = MyRawData['Ema9'].shift(-ActualCandleCount)\n",
    "        MyRawData['RSI' + '_' + str(ActualCandleCount)] = MyRawData['RSI'].shift(-ActualCandleCount)\n",
    "        MyRawData['Rolling Mean' + '_' + str(ActualCandleCount)] = MyRawData['Rolling Mean'].shift(-ActualCandleCount)\n",
    "        MyRawData['Bollinger High' + '_' + str(ActualCandleCount)] = MyRawData['Bollinger High'].shift(-ActualCandleCount)\n",
    "        MyRawData['Bollinger Low' + '_' + str(ActualCandleCount)] = MyRawData['Bollinger Low'].shift(-ActualCandleCount)\n",
    "        print('Step 7: Generating candle backwards [Candle: ' + str(ActualCandleCount) +']')\n",
    "\n",
    "    #populate las column with the output\n",
    "    MyRawData['output'] = 0\n",
    "    MyRawData.loc[MyRawData['Close'] < MyRawData['Close'].shift(5), 'output'] = 1\n",
    "    print('Step 8: Generating prediction column')\n",
    "    \n",
    "\n",
    "    #del MyRawData['Gmt time']\n",
    "    del MyRawData['Open']\n",
    "    del MyRawData['High']\n",
    "    del MyRawData['Low']\n",
    "    del MyRawData['Close']\n",
    "    del MyRawData['Volume']\n",
    "    print('Step 9: Deleting waste columns')\n",
    "\n",
    "    return MyRawData[50:-50]\n",
    "\n"
   ]
  },
  {
   "cell_type": "markdown",
   "metadata": {},
   "source": [
    "#  "
   ]
  },
  {
   "cell_type": "markdown",
   "metadata": {},
   "source": [
    "# Import data from CSV to Pandas"
   ]
  },
  {
   "cell_type": "code",
   "execution_count": 91,
   "metadata": {},
   "outputs": [],
   "source": [
    "ddf_pd = pd.read_csv('EURUSD_2018.csv')\n",
    "#ddf_pd = pd.read_csv('EURUSD_2018.csv')\n",
    "ddf_pd = ddf_pd[::-1]\n",
    "ddf_pd = ddf_pd.head(400000)"
   ]
  },
  {
   "cell_type": "markdown",
   "metadata": {},
   "source": [
    "## Raw data"
   ]
  },
  {
   "cell_type": "markdown",
   "metadata": {},
   "source": [
    "## Feature engineer"
   ]
  },
  {
   "cell_type": "code",
   "execution_count": 92,
   "metadata": {},
   "outputs": [
    {
     "name": "stdout",
     "output_type": "stream",
     "text": [
      "Step 1: Time conversion to Weekday, Hour, Minute\n",
      "Step 2: Calculation Body,Wicks sizes and type of candle\n",
      "Step 3: Calculate MACD\n",
      "Step 4: Calculate EMA 9\n",
      "Step 5: Calculate RSI\n"
     ]
    },
    {
     "name": "stderr",
     "output_type": "stream",
     "text": [
      "/opt/conda/lib/python3.6/site-packages/ipykernel_launcher.py:34: SettingWithCopyWarning: \n",
      "A value is trying to be set on a copy of a slice from a DataFrame.\n",
      "Try using .loc[row_indexer,col_indexer] = value instead\n",
      "\n",
      "See the caveats in the documentation: http://pandas.pydata.org/pandas-docs/stable/indexing.html#indexing-view-versus-copy\n",
      "/opt/conda/lib/python3.6/site-packages/ipykernel_launcher.py:35: SettingWithCopyWarning: \n",
      "A value is trying to be set on a copy of a slice from a DataFrame.\n",
      "Try using .loc[row_indexer,col_indexer] = value instead\n",
      "\n",
      "See the caveats in the documentation: http://pandas.pydata.org/pandas-docs/stable/indexing.html#indexing-view-versus-copy\n",
      "/opt/conda/lib/python3.6/site-packages/ipykernel_launcher.py:36: SettingWithCopyWarning: \n",
      "A value is trying to be set on a copy of a slice from a DataFrame.\n",
      "Try using .loc[row_indexer,col_indexer] = value instead\n",
      "\n",
      "See the caveats in the documentation: http://pandas.pydata.org/pandas-docs/stable/indexing.html#indexing-view-versus-copy\n"
     ]
    },
    {
     "name": "stdout",
     "output_type": "stream",
     "text": [
      "Step 6: Calculate Bolinger Bands\n",
      "Step 7: Generating candle backwards [Candle: 1]\n",
      "Step 7: Generating candle backwards [Candle: 2]\n",
      "Step 7: Generating candle backwards [Candle: 3]\n",
      "Step 7: Generating candle backwards [Candle: 4]\n",
      "Step 7: Generating candle backwards [Candle: 5]\n",
      "Step 7: Generating candle backwards [Candle: 6]\n",
      "Step 7: Generating candle backwards [Candle: 7]\n",
      "Step 7: Generating candle backwards [Candle: 8]\n",
      "Step 7: Generating candle backwards [Candle: 9]\n",
      "Step 7: Generating candle backwards [Candle: 10]\n",
      "Step 8: Generating prediction column\n",
      "Step 9: Deleting waste columns\n"
     ]
    }
   ],
   "source": [
    "ddf_pd=FeatureEnginering(ddf_pd)"
   ]
  },
  {
   "cell_type": "code",
   "execution_count": 93,
   "metadata": {},
   "outputs": [
    {
     "data": {
      "text/html": [
       "<div>\n",
       "<style scoped>\n",
       "    .dataframe tbody tr th:only-of-type {\n",
       "        vertical-align: middle;\n",
       "    }\n",
       "\n",
       "    .dataframe tbody tr th {\n",
       "        vertical-align: top;\n",
       "    }\n",
       "\n",
       "    .dataframe thead th {\n",
       "        text-align: right;\n",
       "    }\n",
       "</style>\n",
       "<table border=\"1\" class=\"dataframe\">\n",
       "  <thead>\n",
       "    <tr style=\"text-align: right;\">\n",
       "      <th></th>\n",
       "      <th>Gmt time</th>\n",
       "      <th>WeekDay</th>\n",
       "      <th>Hour</th>\n",
       "      <th>Minute</th>\n",
       "      <th>BodyPips</th>\n",
       "      <th>WickUpPips</th>\n",
       "      <th>WickDownPips</th>\n",
       "      <th>type</th>\n",
       "      <th>EmaSlow</th>\n",
       "      <th>EmaFast</th>\n",
       "      <th>...</th>\n",
       "      <th>type_10</th>\n",
       "      <th>EmaSlow_10</th>\n",
       "      <th>EmaFast_10</th>\n",
       "      <th>MACD_10</th>\n",
       "      <th>Ema9_10</th>\n",
       "      <th>RSI_10</th>\n",
       "      <th>Rolling Mean_10</th>\n",
       "      <th>Bollinger High_10</th>\n",
       "      <th>Bollinger Low_10</th>\n",
       "      <th>output</th>\n",
       "    </tr>\n",
       "  </thead>\n",
       "  <tbody>\n",
       "    <tr>\n",
       "      <th>394966</th>\n",
       "      <td>2018-12-31 21:10:00+00:00</td>\n",
       "      <td>0.0</td>\n",
       "      <td>0.913043</td>\n",
       "      <td>0.169492</td>\n",
       "      <td>0.3</td>\n",
       "      <td>0.6</td>\n",
       "      <td>0.3</td>\n",
       "      <td>1</td>\n",
       "      <td>1.146125</td>\n",
       "      <td>1.145878</td>\n",
       "      <td>...</td>\n",
       "      <td>1.0</td>\n",
       "      <td>1.145856</td>\n",
       "      <td>1.145740</td>\n",
       "      <td>-0.000116</td>\n",
       "      <td>-0.000150</td>\n",
       "      <td>26.551548</td>\n",
       "      <td>1.145901</td>\n",
       "      <td>1.146140</td>\n",
       "      <td>1.145662</td>\n",
       "      <td>1</td>\n",
       "    </tr>\n",
       "    <tr>\n",
       "      <th>394965</th>\n",
       "      <td>2018-12-31 21:09:00+00:00</td>\n",
       "      <td>0.0</td>\n",
       "      <td>0.913043</td>\n",
       "      <td>0.152542</td>\n",
       "      <td>0.0</td>\n",
       "      <td>0.2</td>\n",
       "      <td>0.0</td>\n",
       "      <td>0</td>\n",
       "      <td>1.146090</td>\n",
       "      <td>1.145853</td>\n",
       "      <td>...</td>\n",
       "      <td>0.0</td>\n",
       "      <td>1.145842</td>\n",
       "      <td>1.145724</td>\n",
       "      <td>-0.000118</td>\n",
       "      <td>-0.000135</td>\n",
       "      <td>26.551548</td>\n",
       "      <td>1.145913</td>\n",
       "      <td>1.146113</td>\n",
       "      <td>1.145713</td>\n",
       "      <td>1</td>\n",
       "    </tr>\n",
       "    <tr>\n",
       "      <th>394964</th>\n",
       "      <td>2018-12-31 21:08:00+00:00</td>\n",
       "      <td>0.0</td>\n",
       "      <td>0.913043</td>\n",
       "      <td>0.135593</td>\n",
       "      <td>0.3</td>\n",
       "      <td>0.4</td>\n",
       "      <td>0.4</td>\n",
       "      <td>1</td>\n",
       "      <td>1.146056</td>\n",
       "      <td>1.145838</td>\n",
       "      <td>...</td>\n",
       "      <td>0.0</td>\n",
       "      <td>1.145830</td>\n",
       "      <td>1.145710</td>\n",
       "      <td>-0.000120</td>\n",
       "      <td>-0.000124</td>\n",
       "      <td>39.843468</td>\n",
       "      <td>1.145926</td>\n",
       "      <td>1.146071</td>\n",
       "      <td>1.145780</td>\n",
       "      <td>1</td>\n",
       "    </tr>\n",
       "    <tr>\n",
       "      <th>394963</th>\n",
       "      <td>2018-12-31 21:07:00+00:00</td>\n",
       "      <td>0.0</td>\n",
       "      <td>0.913043</td>\n",
       "      <td>0.118644</td>\n",
       "      <td>0.1</td>\n",
       "      <td>0.2</td>\n",
       "      <td>0.0</td>\n",
       "      <td>0</td>\n",
       "      <td>1.146022</td>\n",
       "      <td>1.145837</td>\n",
       "      <td>...</td>\n",
       "      <td>0.0</td>\n",
       "      <td>1.145820</td>\n",
       "      <td>1.145711</td>\n",
       "      <td>-0.000109</td>\n",
       "      <td>-0.000117</td>\n",
       "      <td>53.451291</td>\n",
       "      <td>1.145934</td>\n",
       "      <td>1.146043</td>\n",
       "      <td>1.145824</td>\n",
       "      <td>1</td>\n",
       "    </tr>\n",
       "    <tr>\n",
       "      <th>394962</th>\n",
       "      <td>2018-12-31 21:06:00+00:00</td>\n",
       "      <td>0.0</td>\n",
       "      <td>0.913043</td>\n",
       "      <td>0.101695</td>\n",
       "      <td>0.0</td>\n",
       "      <td>0.1</td>\n",
       "      <td>0.1</td>\n",
       "      <td>0</td>\n",
       "      <td>1.145991</td>\n",
       "      <td>1.145835</td>\n",
       "      <td>...</td>\n",
       "      <td>0.0</td>\n",
       "      <td>1.145810</td>\n",
       "      <td>1.145713</td>\n",
       "      <td>-0.000097</td>\n",
       "      <td>-0.000114</td>\n",
       "      <td>53.451291</td>\n",
       "      <td>1.145935</td>\n",
       "      <td>1.146041</td>\n",
       "      <td>1.145829</td>\n",
       "      <td>1</td>\n",
       "    </tr>\n",
       "    <tr>\n",
       "      <th>394961</th>\n",
       "      <td>2018-12-31 21:05:00+00:00</td>\n",
       "      <td>0.0</td>\n",
       "      <td>0.913043</td>\n",
       "      <td>0.084746</td>\n",
       "      <td>0.2</td>\n",
       "      <td>0.4</td>\n",
       "      <td>0.3</td>\n",
       "      <td>1</td>\n",
       "      <td>1.145949</td>\n",
       "      <td>1.145821</td>\n",
       "      <td>...</td>\n",
       "      <td>0.0</td>\n",
       "      <td>1.145799</td>\n",
       "      <td>1.145722</td>\n",
       "      <td>-0.000077</td>\n",
       "      <td>-0.000111</td>\n",
       "      <td>56.494869</td>\n",
       "      <td>1.145938</td>\n",
       "      <td>1.146039</td>\n",
       "      <td>1.145836</td>\n",
       "      <td>1</td>\n",
       "    </tr>\n",
       "    <tr>\n",
       "      <th>394960</th>\n",
       "      <td>2018-12-31 21:04:00+00:00</td>\n",
       "      <td>0.0</td>\n",
       "      <td>0.913043</td>\n",
       "      <td>0.067797</td>\n",
       "      <td>0.0</td>\n",
       "      <td>0.3</td>\n",
       "      <td>0.1</td>\n",
       "      <td>0</td>\n",
       "      <td>1.145918</td>\n",
       "      <td>1.145801</td>\n",
       "      <td>...</td>\n",
       "      <td>0.0</td>\n",
       "      <td>1.145795</td>\n",
       "      <td>1.145733</td>\n",
       "      <td>-0.000062</td>\n",
       "      <td>-0.000107</td>\n",
       "      <td>61.267668</td>\n",
       "      <td>1.145938</td>\n",
       "      <td>1.146039</td>\n",
       "      <td>1.145836</td>\n",
       "      <td>1</td>\n",
       "    </tr>\n",
       "    <tr>\n",
       "      <th>394959</th>\n",
       "      <td>2018-12-31 21:03:00+00:00</td>\n",
       "      <td>0.0</td>\n",
       "      <td>0.913043</td>\n",
       "      <td>0.050847</td>\n",
       "      <td>0.1</td>\n",
       "      <td>0.2</td>\n",
       "      <td>0.1</td>\n",
       "      <td>1</td>\n",
       "      <td>1.145894</td>\n",
       "      <td>1.145783</td>\n",
       "      <td>...</td>\n",
       "      <td>0.0</td>\n",
       "      <td>1.145800</td>\n",
       "      <td>1.145746</td>\n",
       "      <td>-0.000054</td>\n",
       "      <td>-0.000103</td>\n",
       "      <td>64.281906</td>\n",
       "      <td>1.145932</td>\n",
       "      <td>1.146038</td>\n",
       "      <td>1.145827</td>\n",
       "      <td>1</td>\n",
       "    </tr>\n",
       "    <tr>\n",
       "      <th>394958</th>\n",
       "      <td>2018-12-31 21:02:00+00:00</td>\n",
       "      <td>0.0</td>\n",
       "      <td>0.913043</td>\n",
       "      <td>0.033898</td>\n",
       "      <td>0.5</td>\n",
       "      <td>0.5</td>\n",
       "      <td>0.6</td>\n",
       "      <td>1</td>\n",
       "      <td>1.145883</td>\n",
       "      <td>1.145771</td>\n",
       "      <td>...</td>\n",
       "      <td>1.0</td>\n",
       "      <td>1.145804</td>\n",
       "      <td>1.145766</td>\n",
       "      <td>-0.000038</td>\n",
       "      <td>-0.000096</td>\n",
       "      <td>65.992004</td>\n",
       "      <td>1.145926</td>\n",
       "      <td>1.146025</td>\n",
       "      <td>1.145827</td>\n",
       "      <td>1</td>\n",
       "    </tr>\n",
       "    <tr>\n",
       "      <th>394957</th>\n",
       "      <td>2018-12-31 21:01:00+00:00</td>\n",
       "      <td>0.0</td>\n",
       "      <td>0.913043</td>\n",
       "      <td>0.016949</td>\n",
       "      <td>0.4</td>\n",
       "      <td>0.9</td>\n",
       "      <td>0.5</td>\n",
       "      <td>1</td>\n",
       "      <td>1.145871</td>\n",
       "      <td>1.145755</td>\n",
       "      <td>...</td>\n",
       "      <td>0.0</td>\n",
       "      <td>1.145802</td>\n",
       "      <td>1.145783</td>\n",
       "      <td>-0.000018</td>\n",
       "      <td>-0.000088</td>\n",
       "      <td>57.151690</td>\n",
       "      <td>1.145919</td>\n",
       "      <td>1.146001</td>\n",
       "      <td>1.145837</td>\n",
       "      <td>1</td>\n",
       "    </tr>\n",
       "  </tbody>\n",
       "</table>\n",
       "<p>10 rows × 167 columns</p>\n",
       "</div>"
      ],
      "text/plain": [
       "                        Gmt time  WeekDay      Hour    Minute  BodyPips  \\\n",
       "394966 2018-12-31 21:10:00+00:00      0.0  0.913043  0.169492       0.3   \n",
       "394965 2018-12-31 21:09:00+00:00      0.0  0.913043  0.152542       0.0   \n",
       "394964 2018-12-31 21:08:00+00:00      0.0  0.913043  0.135593       0.3   \n",
       "394963 2018-12-31 21:07:00+00:00      0.0  0.913043  0.118644       0.1   \n",
       "394962 2018-12-31 21:06:00+00:00      0.0  0.913043  0.101695       0.0   \n",
       "394961 2018-12-31 21:05:00+00:00      0.0  0.913043  0.084746       0.2   \n",
       "394960 2018-12-31 21:04:00+00:00      0.0  0.913043  0.067797       0.0   \n",
       "394959 2018-12-31 21:03:00+00:00      0.0  0.913043  0.050847       0.1   \n",
       "394958 2018-12-31 21:02:00+00:00      0.0  0.913043  0.033898       0.5   \n",
       "394957 2018-12-31 21:01:00+00:00      0.0  0.913043  0.016949       0.4   \n",
       "\n",
       "        WickUpPips  WickDownPips  type   EmaSlow   EmaFast  ...  type_10  \\\n",
       "394966         0.6           0.3     1  1.146125  1.145878  ...      1.0   \n",
       "394965         0.2           0.0     0  1.146090  1.145853  ...      0.0   \n",
       "394964         0.4           0.4     1  1.146056  1.145838  ...      0.0   \n",
       "394963         0.2           0.0     0  1.146022  1.145837  ...      0.0   \n",
       "394962         0.1           0.1     0  1.145991  1.145835  ...      0.0   \n",
       "394961         0.4           0.3     1  1.145949  1.145821  ...      0.0   \n",
       "394960         0.3           0.1     0  1.145918  1.145801  ...      0.0   \n",
       "394959         0.2           0.1     1  1.145894  1.145783  ...      0.0   \n",
       "394958         0.5           0.6     1  1.145883  1.145771  ...      1.0   \n",
       "394957         0.9           0.5     1  1.145871  1.145755  ...      0.0   \n",
       "\n",
       "        EmaSlow_10  EmaFast_10   MACD_10   Ema9_10     RSI_10  \\\n",
       "394966    1.145856    1.145740 -0.000116 -0.000150  26.551548   \n",
       "394965    1.145842    1.145724 -0.000118 -0.000135  26.551548   \n",
       "394964    1.145830    1.145710 -0.000120 -0.000124  39.843468   \n",
       "394963    1.145820    1.145711 -0.000109 -0.000117  53.451291   \n",
       "394962    1.145810    1.145713 -0.000097 -0.000114  53.451291   \n",
       "394961    1.145799    1.145722 -0.000077 -0.000111  56.494869   \n",
       "394960    1.145795    1.145733 -0.000062 -0.000107  61.267668   \n",
       "394959    1.145800    1.145746 -0.000054 -0.000103  64.281906   \n",
       "394958    1.145804    1.145766 -0.000038 -0.000096  65.992004   \n",
       "394957    1.145802    1.145783 -0.000018 -0.000088  57.151690   \n",
       "\n",
       "        Rolling Mean_10  Bollinger High_10  Bollinger Low_10  output  \n",
       "394966         1.145901           1.146140          1.145662       1  \n",
       "394965         1.145913           1.146113          1.145713       1  \n",
       "394964         1.145926           1.146071          1.145780       1  \n",
       "394963         1.145934           1.146043          1.145824       1  \n",
       "394962         1.145935           1.146041          1.145829       1  \n",
       "394961         1.145938           1.146039          1.145836       1  \n",
       "394960         1.145938           1.146039          1.145836       1  \n",
       "394959         1.145932           1.146038          1.145827       1  \n",
       "394958         1.145926           1.146025          1.145827       1  \n",
       "394957         1.145919           1.146001          1.145837       1  \n",
       "\n",
       "[10 rows x 167 columns]"
      ]
     },
     "execution_count": 93,
     "metadata": {},
     "output_type": "execute_result"
    }
   ],
   "source": [
    "ddf_pd.head(10)"
   ]
  },
  {
   "cell_type": "markdown",
   "metadata": {},
   "source": [
    "## Data with features applied"
   ]
  },
  {
   "cell_type": "markdown",
   "metadata": {},
   "source": [
    "# Split data by Input, Output & Traning, Validation, Testing data and decoded list of datetimes"
   ]
  },
  {
   "cell_type": "code",
   "execution_count": null,
   "metadata": {},
   "outputs": [],
   "source": [
    "D = ddf_pd.values[:, :2]"
   ]
  },
  {
   "cell_type": "code",
   "execution_count": null,
   "metadata": {},
   "outputs": [],
   "source": [
    "min_max_scaler = preprocessing.MinMaxScaler()\n",
    "X = ddf_pd.values[:, 1:166]\n",
    "X = min_max_scaler.fit_transform(X)"
   ]
  },
  {
   "cell_type": "code",
   "execution_count": null,
   "metadata": {},
   "outputs": [],
   "source": [
    "Y = ddf_pd.values[:, 166:]\n",
    "del ddf_pd"
   ]
  },
  {
   "cell_type": "markdown",
   "metadata": {},
   "source": [
    "# Split data by training, validation and test"
   ]
  },
  {
   "cell_type": "code",
   "execution_count": null,
   "metadata": {},
   "outputs": [],
   "source": [
    "X_train, X_val_and_test, Y_train, Y_val_and_test = train_test_split(X,Y, test_size=0.5)\n",
    "X_val, X_test, Y_val, Y_test = train_test_split(X_val_and_test, Y_val_and_test, test_size=0.5)\n",
    "del X\n",
    "del Y"
   ]
  },
  {
   "cell_type": "code",
   "execution_count": null,
   "metadata": {},
   "outputs": [],
   "source": [
    "D_train, D_val_and_test = train_test_split(D, test_size=0.5)\n",
    "D_val, D_test = train_test_split(D_val_and_test, test_size=0.5)\n",
    "del D"
   ]
  },
  {
   "cell_type": "markdown",
   "metadata": {},
   "source": [
    "## Final dataset :"
   ]
  },
  {
   "cell_type": "code",
   "execution_count": null,
   "metadata": {
    "scrolled": true
   },
   "outputs": [],
   "source": [
    "print('Training data: ' + 'X Input shape: ' + str(X_train.shape) + ', ' + 'Y Output shape: ' + str(Y_train.shape) + ', ' + 'datetime shape: ' + str(Y_train.shape))\n",
    "print('Validation data: ' + 'X Input shape: ' + str(X_val.shape) + ', ' + 'Y Output shape: ' + str(Y_val.shape) + ', ' + 'datetime shape: ' + str(Y_train.shape))\n",
    "print('Test data: ' + 'X Input shape: ' + str(X_test.shape) + ', ' + 'Y Output shape: ' + str(Y_test.shape) + ', ' + 'datetime shape: ' + str(Y_train.shape))"
   ]
  },
  {
   "cell_type": "markdown",
   "metadata": {},
   "source": [
    "#   "
   ]
  },
  {
   "cell_type": "markdown",
   "metadata": {},
   "source": [
    "# Part 2. -  Train Deep Learning model"
   ]
  },
  {
   "cell_type": "markdown",
   "metadata": {},
   "source": [
    "# Create the deep learning model"
   ]
  },
  {
   "cell_type": "code",
   "execution_count": null,
   "metadata": {
    "scrolled": true
   },
   "outputs": [],
   "source": [
    "model = Sequential()\n",
    "model.add(Dense(128, input_dim=165, kernel_initializer='normal', activation='relu'))\n",
    "model.add(Dense(64, kernel_initializer='normal', activation='relu'))\n",
    "model.add(Dense(32, kernel_initializer='normal', activation='relu'))\n",
    "model.add(Dense(16, kernel_initializer='normal', activation='relu'))\n",
    "model.add(Dense(1, kernel_initializer='normal', activation='sigmoid'))\n",
    "model.compile(loss='binary_crossentropy', optimizer='adam', metrics=['accuracy'])\n"
   ]
  },
  {
   "cell_type": "markdown",
   "metadata": {},
   "source": [
    "# Train the model"
   ]
  },
  {
   "cell_type": "code",
   "execution_count": null,
   "metadata": {
    "scrolled": true
   },
   "outputs": [],
   "source": [
    "hist = model.fit(X_train, Y_train,batch_size=500, epochs=15,validation_data=(X_val, Y_val))"
   ]
  },
  {
   "cell_type": "markdown",
   "metadata": {},
   "source": [
    "# Evaluate trained model on new data"
   ]
  },
  {
   "cell_type": "code",
   "execution_count": null,
   "metadata": {},
   "outputs": [],
   "source": [
    "test_loss, test_acc = model.evaluate(X_test, Y_test)\n",
    "print('Test accuracy:', test_acc)\n",
    "predictions = model.predict(X_test)"
   ]
  },
  {
   "cell_type": "markdown",
   "metadata": {},
   "source": [
    "# Part 3. -  Get data insights"
   ]
  },
  {
   "cell_type": "markdown",
   "metadata": {},
   "source": [
    "## Function to calculate won and lost trades on data sample:"
   ]
  },
  {
   "cell_type": "code",
   "execution_count": null,
   "metadata": {},
   "outputs": [],
   "source": [
    "def calculate_win_loss(confidence,predictions,target):\n",
    "    WON = 0\n",
    "    LOST = 0\n",
    "    counter = 0\n",
    "    for prediction_check in predictions:\n",
    "        if prediction_check > confidence: # or prediction_check < 1-confidence:\n",
    "            if np.argmax(predictions[counter]) == target[counter]:\n",
    "                WON = WON + 1\n",
    "            else:\n",
    "                LOST = LOST + 1\n",
    "        counter = counter + 1\n",
    "    return WON,LOST"
   ]
  },
  {
   "cell_type": "code",
   "execution_count": 21,
   "metadata": {},
   "outputs": [
    {
     "name": "stdout",
     "output_type": "stream",
     "text": [
      "Trades won: 60, Trades lost: 2773\n",
      "Profitability: 2.12%\n"
     ]
    }
   ],
   "source": [
    "won_trades,lost_trades = calculate_win_loss(0.98,predictions,Y_test)\n",
    "print('Trades won: ' + str(won_trades) + ', Trades lost: ' + str(lost_trades))\n",
    "print('Profitability: ' + str(round((won_trades*100)/(won_trades+lost_trades),2)) + '%')\n"
   ]
  },
  {
   "cell_type": "markdown",
   "metadata": {},
   "source": [
    "## Function to calculate consequitive trades:"
   ]
  },
  {
   "cell_type": "code",
   "execution_count": 22,
   "metadata": {},
   "outputs": [],
   "source": [
    "def calculate_consequitive_trades(confidence,predictions,target):\n",
    "    counter = 0\n",
    "    ConsequtiveStats = []\n",
    "    for prediction_check in predictions:\n",
    "        if prediction_check > confidence: # or prediction_check < 1-confidence:\n",
    "            if np.argmax(predictions[counter]) == target[counter]:\n",
    "                ConsequtiveStats.append(1)\n",
    "            else:\n",
    "                ConsequtiveStats.append(0)\n",
    "        counter = counter + 1\n",
    "    z = [(x[0], len(list(x[1]))) for x in itertools.groupby(ConsequtiveStats)]    \n",
    "    MaxLost = 0\n",
    "    MaxWon = 0\n",
    "    for a in z:\n",
    "        if a[0]==0:\n",
    "            if a[1] > MaxLost: MaxLost = a[1]\n",
    "        else:\n",
    "            if a[1] > MaxWon: MaxWon = a[1]     \n",
    "    return MaxWon,MaxLost"
   ]
  },
  {
   "cell_type": "code",
   "execution_count": 23,
   "metadata": {},
   "outputs": [
    {
     "name": "stdout",
     "output_type": "stream",
     "text": [
      "Max consequitive wins: 2, Max consequitive looses: 246\n"
     ]
    }
   ],
   "source": [
    "max_won,max_lost = calculate_consequitive_trades(0.98,predictions,Y_test)\n",
    "print('Max consequitive wins: ' + str(max_won) + ', Max consequitive looses: ' + str(max_lost))"
   ]
  },
  {
   "cell_type": "code",
   "execution_count": null,
   "metadata": {},
   "outputs": [],
   "source": []
  },
  {
   "cell_type": "markdown",
   "metadata": {},
   "source": [
    "## Function to calculate trades per weekday"
   ]
  },
  {
   "cell_type": "code",
   "execution_count": 24,
   "metadata": {},
   "outputs": [],
   "source": [
    "def calculate_week_trades(confidence,predictions,target,decoded_weekdays):\n",
    "    counter = 0\n",
    "    WeekDayStats = {'Monday':[0,0],'Tuesday':[0,0],'Wendsday':[0,0],'Thursday':[0,0],'Friday':[0,0]}\n",
    "    for prediction_check in predictions:\n",
    "        if prediction_check > confidence: # or prediction_check < 1-confidence:\n",
    "            if np.argmax(predictions[counter]) == target[counter]:\n",
    "                trade_status = 0\n",
    "            else:\n",
    "                trade_status = 1\n",
    "            if decoded_weekdays[counter][1] == 0: WeekDayStats['Monday'][trade_status] = WeekDayStats['Monday'][trade_status] + 1\n",
    "            if decoded_weekdays[counter][1] == 0.25: WeekDayStats['Tuesday'][trade_status] = WeekDayStats['Tuesday'][trade_status] + 1\n",
    "            if decoded_weekdays[counter][1] == 0.5: WeekDayStats['Wendsday'][trade_status] = WeekDayStats['Wendsday'][trade_status] + 1\n",
    "            if decoded_weekdays[counter][1] == 0.75: WeekDayStats['Thursday'][trade_status] = WeekDayStats['Thursday'][trade_status] + 1\n",
    "            if decoded_weekdays[counter][1] == 1: WeekDayStats['Friday'][trade_status] = WeekDayStats['Friday'][trade_status] + 1\n",
    "        counter = counter + 1\n",
    "        \n",
    "    Weekdays = round(len(predictions)/7200,0)    \n",
    "    for key, value in WeekDayStats.items():\n",
    "        value[0] = round(value[0]/Weekdays,0)\n",
    "        value[1] = round(value[1]/Weekdays,0)\n",
    "    \n",
    "    return WeekDayStats,Weekdays"
   ]
  },
  {
   "cell_type": "code",
   "execution_count": 25,
   "metadata": {
    "scrolled": true
   },
   "outputs": [
    {
     "name": "stdout",
     "output_type": "stream",
     "text": [
      "Data gathered from 14.0 weeks\n",
      "Average trades on Monday =  Won: 1.0, Lost: 40.0\n",
      "Average trades on Tuesday =  Won: 1.0, Lost: 40.0\n",
      "Average trades on Wendsday =  Won: 1.0, Lost: 37.0\n",
      "Average trades on Thursday =  Won: 1.0, Lost: 41.0\n",
      "Average trades on Friday =  Won: 1.0, Lost: 36.0\n"
     ]
    }
   ],
   "source": [
    "week_day_trades,traded_weeks = calculate_week_trades(0.98,predictions,Y_test,D_test)\n",
    "print('Data gathered from ' + str(traded_weeks) + ' weeks')\n",
    "print('Average trades on Monday =  Won: ' + str(week_day_trades['Monday'][0]) + ', Lost: ' + str(week_day_trades['Monday'][1]))\n",
    "print('Average trades on Tuesday =  Won: ' + str(week_day_trades['Tuesday'][0]) + ', Lost: ' + str(week_day_trades['Tuesday'][1]))\n",
    "print('Average trades on Wendsday =  Won: ' + str(week_day_trades['Wendsday'][0]) + ', Lost: ' + str(week_day_trades['Wendsday'][1]))\n",
    "print('Average trades on Thursday =  Won: ' + str(week_day_trades['Thursday'][0]) + ', Lost: ' + str(week_day_trades['Thursday'][1]))\n",
    "print('Average trades on Friday =  Won: ' + str(week_day_trades['Friday'][0]) + ', Lost: ' + str(week_day_trades['Friday'][1]))"
   ]
  },
  {
   "cell_type": "markdown",
   "metadata": {},
   "source": [
    "## Function to calculate P&L"
   ]
  },
  {
   "cell_type": "code",
   "execution_count": 26,
   "metadata": {},
   "outputs": [],
   "source": [
    "def calculate_p_and_l(confidence,predictions,target,trade_return,starting_balance,trade_percent,withdraw_percent):\n",
    "    counter = 0\n",
    "    withdraws = []\n",
    "    balance = []\n",
    "    balance.append(starting_balance)\n",
    "    \n",
    "    for prediction_check in predictions:\n",
    "        if counter % 7200 == 0: \n",
    "            if balance[len(balance)-1] > 10*starting_balance:\n",
    "                withdraws.append(balance[len(balance)-1] *withdraw_percent)\n",
    "                balance[len(balance)-1] = balance[len(balance)-1] * (1-withdraw_percent)\n",
    "            else:\n",
    "                withdraws.append(0)\n",
    "        if prediction_check > confidence: # or prediction_check < 1-confidence:\n",
    "            \n",
    "            next_balance = balance[len(balance)-1]\n",
    "            trade_size = next_balance*trade_percent\n",
    "            next_balance = next_balance - trade_size\n",
    "            \n",
    "            if np.argmax(predictions[counter]) == target[counter]:\n",
    "                next_balance = next_balance + (trade_size*trade_return)\n",
    "            balance.append(round(next_balance,2))\n",
    "            \n",
    "        counter = counter + 1\n",
    "    return balance,withdraws"
   ]
  },
  {
   "cell_type": "code",
   "execution_count": 27,
   "metadata": {},
   "outputs": [],
   "source": [
    "profit_loss,weekly_withdraws = calculate_p_and_l(0.98,predictions,Y_test,1.8,50,0.05,0.7)"
   ]
  },
  {
   "cell_type": "markdown",
   "metadata": {},
   "source": [
    "#   "
   ]
  },
  {
   "cell_type": "markdown",
   "metadata": {},
   "source": [
    "# Part 4. -  Plot the charts"
   ]
  },
  {
   "cell_type": "markdown",
   "metadata": {},
   "source": [
    "## EURUSD - validation data"
   ]
  },
  {
   "cell_type": "code",
   "execution_count": 28,
   "metadata": {},
   "outputs": [
    {
     "data": {
      "image/png": "[encoded data removed]",
      "text/plain": [
       "<Figure size 1080x1080 with 6 Axes>"
      ]
     },
     "metadata": {},
     "output_type": "display_data"
    }
   ],
   "source": [
    "plt.style.use('ggplot')\n",
    "f = plt.figure(figsize=(15,15))\n",
    "\n",
    "ax = f.add_subplot(321)\n",
    "ax.margins(0.1) \n",
    "ax.plot(hist.history['loss'])\n",
    "ax.plot(hist.history['val_loss'])\n",
    "ax.set_title('Model loss')\n",
    "ax.set_ylabel('Loss')\n",
    "ax.set_xlabel('Epoch')\n",
    "ax.legend(['Train', 'Val'], loc='upper right')\n",
    "\n",
    "ax2 = f.add_subplot(322)\n",
    "ax2.margins(0.1) \n",
    "ax2.plot(hist.history['acc'])\n",
    "ax2.plot(hist.history['val_acc'])\n",
    "ax2.set_title('Model accuracy')\n",
    "ax2.set_ylabel('Accuracy')\n",
    "ax2.set_xlabel('Epoch')\n",
    "ax2.legend(['Train', 'Val'], loc='lower right')\n",
    "\n",
    "ax3 = f.add_subplot(323)\n",
    "labels = 'WON', 'LOST'\n",
    "sizes = [won_trades, lost_trades]\n",
    "explode = (0, 0.1)  \n",
    "ax3.pie(sizes, explode=explode, labels=labels, autopct='%1.1f%%',shadow=True, startangle=90)\n",
    "ax3.set_title('Predictions above 98% confidence')\n",
    "\n",
    "ax4 = f.add_subplot(324)\n",
    "ax4.set_title('Consequitive wins and losses in a row')\n",
    "x = ['Won','Lost']\n",
    "ax4.bar(x, [max_won,max_lost])\n",
    "ax4.set_xticks(x, ('Won','Lost'))\n",
    "\n",
    "ax5 = f.add_subplot(325)\n",
    "TradesWonWeekDay = (sum(week_day_trades['Monday']), sum(week_day_trades['Tuesday']),sum(week_day_trades['Wendsday']), sum(week_day_trades['Monday']), sum(week_day_trades['Friday']))\n",
    "TradesLostWeekDay = (week_day_trades['Monday'][1], week_day_trades['Tuesday'][1], week_day_trades['Wendsday'][1], week_day_trades['Thursday'][1], week_day_trades['Friday'][1])\n",
    "p1 = plt.bar(np.arange(5) , TradesWonWeekDay, 0.35 )\n",
    "p2 = plt.bar(np.arange(5), TradesLostWeekDay, 0.35 )\n",
    "ax5.set_ylabel('Trades')\n",
    "ax5.set_title('Trades per Week Day during Weeks: ' + str(traded_weeks))\n",
    "ax5.set_xticks(np.arange(5), ('Monday', 'Tuesday', 'Wendsday', 'Thursday', 'Friday'))\n",
    "ax5.set_xlabel('Week days')\n",
    "ax5.legend((p1[0], p2[0]), ('WON', 'LOST'))\n",
    "\n",
    "ax6 = f.add_subplot(326)\n",
    "ax6.margins(0.1) \n",
    "ax6.plot(profit_loss)\n",
    "ax6.set_title('Model P&L')\n",
    "ax6.set_ylabel('P&L')\n",
    "ax6.set_xlabel('Trade')\n",
    "ax6.legend('Profit', loc='upper right')\n",
    "\n",
    "plt.show()\n",
    "\n"
   ]
  },
  {
   "cell_type": "markdown",
   "metadata": {},
   "source": [
    "# Part 5. -  Save and load model"
   ]
  },
  {
   "cell_type": "markdown",
   "metadata": {},
   "source": [
    "## save model"
   ]
  },
  {
   "cell_type": "code",
   "execution_count": 29,
   "metadata": {},
   "outputs": [
    {
     "name": "stdout",
     "output_type": "stream",
     "text": [
      "Saved model to disk\n"
     ]
    }
   ],
   "source": [
    "model.save(\"model3.h5\")\n",
    "print(\"Saved model to disk\")"
   ]
  },
  {
   "cell_type": "markdown",
   "metadata": {},
   "source": [
    "## load model"
   ]
  },
  {
   "cell_type": "code",
   "execution_count": 30,
   "metadata": {},
   "outputs": [
    {
     "name": "stdout",
     "output_type": "stream",
     "text": [
      "Model: \"sequential_1\"\n",
      "_________________________________________________________________\n",
      "Layer (type)                 Output Shape              Param #   \n",
      "=================================================================\n",
      "dense_1 (Dense)              (None, 128)               21248     \n",
      "_________________________________________________________________\n",
      "dense_2 (Dense)              (None, 64)                8256      \n",
      "_________________________________________________________________\n",
      "dense_3 (Dense)              (None, 32)                2080      \n",
      "_________________________________________________________________\n",
      "dense_4 (Dense)              (None, 16)                528       \n",
      "_________________________________________________________________\n",
      "dense_5 (Dense)              (None, 1)                 17        \n",
      "=================================================================\n",
      "Total params: 32,129\n",
      "Trainable params: 32,129\n",
      "Non-trainable params: 0\n",
      "_________________________________________________________________\n"
     ]
    }
   ],
   "source": [
    "from keras.models import load_model\n",
    "\n",
    "# load model\n",
    "model = load_model('model3.h5')\n",
    "# summarize model.\n",
    "model.summary()"
   ]
  },
  {
   "cell_type": "markdown",
   "metadata": {},
   "source": [
    "# Part 6. -  Evaluate model on other asset"
   ]
  },
  {
   "cell_type": "markdown",
   "metadata": {},
   "source": [
    "### Load GBP/USD  1 minute candle data from csv."
   ]
  },
  {
   "cell_type": "code",
   "execution_count": 31,
   "metadata": {},
   "outputs": [],
   "source": [
    "\n",
    "ddf_pd2 = pd.read_csv('GBPUSD_2018.csv')\n",
    "ddf_pd2=ddf_pd2[::-1]\n",
    "ddf_pd2=ddf_pd2.head(400000)"
   ]
  },
  {
   "cell_type": "markdown",
   "metadata": {},
   "source": [
    "### Create features for loaded dataset"
   ]
  },
  {
   "cell_type": "code",
   "execution_count": 32,
   "metadata": {},
   "outputs": [
    {
     "name": "stdout",
     "output_type": "stream",
     "text": [
      "Step 1: Time conversion to Weekday, Hour, Minute\n",
      "Step 2: Calculation Body,Wicks sizes and type of candle\n",
      "Step 3: Calculate MACD\n",
      "Step 4: Calculate EMA 9\n",
      "Step 5: Calculate RSI\n"
     ]
    },
    {
     "name": "stderr",
     "output_type": "stream",
     "text": [
      "/opt/conda/lib/python3.6/site-packages/ipykernel_launcher.py:34: SettingWithCopyWarning: \n",
      "A value is trying to be set on a copy of a slice from a DataFrame.\n",
      "Try using .loc[row_indexer,col_indexer] = value instead\n",
      "\n",
      "See the caveats in the documentation: http://pandas.pydata.org/pandas-docs/stable/indexing.html#indexing-view-versus-copy\n",
      "/opt/conda/lib/python3.6/site-packages/ipykernel_launcher.py:35: SettingWithCopyWarning: \n",
      "A value is trying to be set on a copy of a slice from a DataFrame.\n",
      "Try using .loc[row_indexer,col_indexer] = value instead\n",
      "\n",
      "See the caveats in the documentation: http://pandas.pydata.org/pandas-docs/stable/indexing.html#indexing-view-versus-copy\n",
      "/opt/conda/lib/python3.6/site-packages/ipykernel_launcher.py:36: SettingWithCopyWarning: \n",
      "A value is trying to be set on a copy of a slice from a DataFrame.\n",
      "Try using .loc[row_indexer,col_indexer] = value instead\n",
      "\n",
      "See the caveats in the documentation: http://pandas.pydata.org/pandas-docs/stable/indexing.html#indexing-view-versus-copy\n"
     ]
    },
    {
     "name": "stdout",
     "output_type": "stream",
     "text": [
      "Step 6: Calculate Bolinger Bands\n",
      "Step 7: Generating candle backwards [Candle: 1]\n",
      "Step 7: Generating candle backwards [Candle: 2]\n",
      "Step 7: Generating candle backwards [Candle: 3]\n",
      "Step 7: Generating candle backwards [Candle: 4]\n",
      "Step 7: Generating candle backwards [Candle: 5]\n",
      "Step 7: Generating candle backwards [Candle: 6]\n",
      "Step 7: Generating candle backwards [Candle: 7]\n",
      "Step 7: Generating candle backwards [Candle: 8]\n",
      "Step 7: Generating candle backwards [Candle: 9]\n",
      "Step 7: Generating candle backwards [Candle: 10]\n",
      "Step 8: Generating prediction column\n",
      "Step 9: Deleting waste columns\n"
     ]
    }
   ],
   "source": [
    "\n",
    "ddf_pd2=FeatureEnginering(ddf_pd2)"
   ]
  },
  {
   "cell_type": "markdown",
   "metadata": {},
   "source": [
    "### Slice the dataset to get list of date times"
   ]
  },
  {
   "cell_type": "code",
   "execution_count": 33,
   "metadata": {},
   "outputs": [],
   "source": [
    "\n",
    "D = ddf_pd2.values[:, :2]"
   ]
  },
  {
   "cell_type": "markdown",
   "metadata": {},
   "source": [
    "### Slice and normalize the dataset to get the input format"
   ]
  },
  {
   "cell_type": "code",
   "execution_count": 34,
   "metadata": {},
   "outputs": [],
   "source": [
    "\n",
    "min_max_scaler = preprocessing.MinMaxScaler()\n",
    "X = ddf_pd2.values[:, 1:166]\n",
    "X = min_max_scaler.fit_transform(X)"
   ]
  },
  {
   "cell_type": "markdown",
   "metadata": {},
   "source": [
    "### Slice the dataset to get the output format"
   ]
  },
  {
   "cell_type": "code",
   "execution_count": 35,
   "metadata": {},
   "outputs": [],
   "source": [
    "\n",
    "Y = ddf_pd2.values[:, 166:]\n",
    "del ddf_pd2"
   ]
  },
  {
   "cell_type": "markdown",
   "metadata": {},
   "source": [
    "### Make model predictions on GBP/USD dataset."
   ]
  },
  {
   "cell_type": "code",
   "execution_count": 36,
   "metadata": {},
   "outputs": [
    {
     "name": "stdout",
     "output_type": "stream",
     "text": [
      "399900/399900 [==============================] - 33s 83us/step\n",
      "Test accuracy: 0.5308402100516189\n"
     ]
    }
   ],
   "source": [
    "\n",
    "test_loss, test_acc = model.evaluate(X, Y)\n",
    "print('Test accuracy:', test_acc)\n",
    "predictions = model.predict(X)"
   ]
  },
  {
   "cell_type": "markdown",
   "metadata": {},
   "source": [
    "### Calculate the win/loss ratio"
   ]
  },
  {
   "cell_type": "code",
   "execution_count": 37,
   "metadata": {},
   "outputs": [
    {
     "name": "stdout",
     "output_type": "stream",
     "text": [
      "Trades won: 1523, Trades lost: 29096\n",
      "Profitability: 4.97%\n"
     ]
    }
   ],
   "source": [
    "won_trades,lost_trades = calculate_win_loss(0.99,predictions,Y)\n",
    "print('Trades won: ' + str(won_trades) + ', Trades lost: ' + str(lost_trades))\n",
    "print('Profitability: ' + str(round((won_trades*100)/(won_trades+lost_trades),2)) + '%')"
   ]
  },
  {
   "cell_type": "markdown",
   "metadata": {},
   "source": [
    "### Calculate the max losses and wins in a row"
   ]
  },
  {
   "cell_type": "code",
   "execution_count": 38,
   "metadata": {},
   "outputs": [
    {
     "name": "stdout",
     "output_type": "stream",
     "text": [
      "Max consequitive wins: 11, Max consequitive looses: 356\n"
     ]
    }
   ],
   "source": [
    "max_won,max_lost = calculate_consequitive_trades(0.99,predictions,Y)\n",
    "print('Max consequitive wins: ' + str(max_won) + ', Max consequitive looses: ' + str(max_lost))"
   ]
  },
  {
   "cell_type": "markdown",
   "metadata": {},
   "source": [
    "### Calculate the average trades per week"
   ]
  },
  {
   "cell_type": "code",
   "execution_count": 39,
   "metadata": {},
   "outputs": [
    {
     "name": "stdout",
     "output_type": "stream",
     "text": [
      "Data gathered from 56.0 weeks\n",
      "Average trades on Monday =  Won: 3.0, Lost: 65.0\n",
      "Average trades on Tuesday =  Won: 3.0, Lost: 87.0\n",
      "Average trades on Wendsday =  Won: 5.0, Lost: 102.0\n",
      "Average trades on Thursday =  Won: 6.0, Lost: 121.0\n",
      "Average trades on Friday =  Won: 5.0, Lost: 111.0\n"
     ]
    }
   ],
   "source": [
    "week_day_trades,traded_weeks = calculate_week_trades(0.99,predictions,Y,D)\n",
    "print('Data gathered from ' + str(traded_weeks) + ' weeks')\n",
    "print('Average trades on Monday =  Won: ' + str(week_day_trades['Monday'][0]) + ', Lost: ' + str(week_day_trades['Monday'][1]))\n",
    "print('Average trades on Tuesday =  Won: ' + str(week_day_trades['Tuesday'][0]) + ', Lost: ' + str(week_day_trades['Tuesday'][1]))\n",
    "print('Average trades on Wendsday =  Won: ' + str(week_day_trades['Wendsday'][0]) + ', Lost: ' + str(week_day_trades['Wendsday'][1]))\n",
    "print('Average trades on Thursday =  Won: ' + str(week_day_trades['Thursday'][0]) + ', Lost: ' + str(week_day_trades['Thursday'][1]))\n",
    "print('Average trades on Friday =  Won: ' + str(week_day_trades['Friday'][0]) + ', Lost: ' + str(week_day_trades['Friday'][1]))"
   ]
  },
  {
   "cell_type": "markdown",
   "metadata": {},
   "source": [
    "### Calculate the profit and loss ratios togather with weekly withdraws"
   ]
  },
  {
   "cell_type": "code",
   "execution_count": 40,
   "metadata": {},
   "outputs": [],
   "source": [
    "profit_loss,weekly_withdraws = calculate_p_and_l(0.99,predictions,Y,1.8,50,0.05,0.5)"
   ]
  },
  {
   "cell_type": "markdown",
   "metadata": {},
   "source": [
    "### Plot the charts for GBP/USD simulation"
   ]
  },
  {
   "cell_type": "code",
   "execution_count": 41,
   "metadata": {},
   "outputs": [
    {
     "data": {
      "image/png": "[encoded data removed]",
      "text/plain": [
       "<Figure size 1080x1080 with 5 Axes>"
      ]
     },
     "metadata": {},
     "output_type": "display_data"
    }
   ],
   "source": [
    "plt.style.use('ggplot')\n",
    "f = plt.figure(figsize=(15,15))\n",
    "\n",
    "\n",
    "ax1 = f.add_subplot(321)\n",
    "ax1.set_title('Weekly withdraws')\n",
    "ax1.bar(np.arange(len(weekly_withdraws)),weekly_withdraws)\n",
    "\n",
    "\n",
    "ax3 = f.add_subplot(323)\n",
    "labels = 'WON', 'LOST'\n",
    "sizes = [won_trades, lost_trades]\n",
    "explode = (0, 0.1)  \n",
    "ax3.pie(sizes, explode=explode, labels=labels, autopct='%1.1f%%',shadow=True, startangle=90)\n",
    "ax3.set_title('Predictions above 98% confidence')\n",
    "\n",
    "ax4 = f.add_subplot(324)\n",
    "ax4.set_title('Consequitive wins and losses in a row')\n",
    "x = ['Won','Lost']\n",
    "ax4.bar(x, [max_won,max_lost])\n",
    "ax4.set_xticks(x, ('Won','Lost'))\n",
    "\n",
    "ax5 = f.add_subplot(325)\n",
    "TradesWonWeekDay = (sum(week_day_trades['Monday']), sum(week_day_trades['Tuesday']),sum(week_day_trades['Wendsday']), sum(week_day_trades['Monday']), sum(week_day_trades['Friday']))\n",
    "TradesLostWeekDay = (week_day_trades['Monday'][1], week_day_trades['Tuesday'][1], week_day_trades['Wendsday'][1], week_day_trades['Thursday'][1], week_day_trades['Friday'][1])\n",
    "p1 = plt.bar(np.arange(5) , TradesWonWeekDay, 0.35 )\n",
    "p2 = plt.bar(np.arange(5), TradesLostWeekDay, 0.35 )\n",
    "ax5.set_ylabel('Trades')\n",
    "ax5.set_title('Trades per Week Day during Weeks: ' + str(traded_weeks))\n",
    "ax5.set_xticks(np.arange(5), ('Monday', 'Tuesday', 'Wendsday', 'Thursday', 'Friday'))\n",
    "ax5.set_xlabel('Week days')\n",
    "ax5.legend((p1[0], p2[0]), ('WON', 'LOST'))\n",
    "\n",
    "ax6 = f.add_subplot(326)\n",
    "ax6.margins(0.1) \n",
    "ax6.plot(profit_loss)\n",
    "ax6.set_title('Model P&L')\n",
    "ax6.set_ylabel('P&L')\n",
    "ax6.set_xlabel('Trade')\n",
    "ax6.legend('Profit', loc='upper right')\n",
    "\n",
    "plt.show()\n",
    "\n"
   ]
  },
  {
   "cell_type": "code",
   "execution_count": null,
   "metadata": {},
   "outputs": [],
   "source": []
  },
  {
   "cell_type": "code",
   "execution_count": null,
   "metadata": {},
   "outputs": [],
   "source": []
  },
  {
   "cell_type": "code",
   "execution_count": null,
   "metadata": {},
   "outputs": [],
   "source": []
  },
  {
   "cell_type": "markdown",
   "metadata": {},
   "source": [
    "# Conclusion"
   ]
  },
  {
   "cell_type": "markdown",
   "metadata": {},
   "source": [
    "Looks like we manage to get ultra bad performanace... In fact our model had Profitability: 2.39% rate which is so bad, but wait... We know that Binary Options is a binary game (0,1). So if our model has 2.39% succes rate on predicting the direction, we can reverse it by multpiplication all our predictions by -1 ! Yes, in theory if our model will make a prediction for CALL option signal, we will just reverse it to PUT option and so on... Now, let's play with the numbers, our model has 2.39% so if we can reverse the signals we will get 100%-2.39%=97.61%! OK... it all looks fine in theory, let's make it a try and code it."
   ]
  },
  {
   "cell_type": "markdown",
   "metadata": {},
   "source": [
    "### Step 1. - Reverse all the analytics functions"
   ]
  },
  {
   "cell_type": "markdown",
   "metadata": {},
   "source": [
    "#    "
   ]
  },
  {
   "cell_type": "markdown",
   "metadata": {},
   "source": [
    "#### Calculation"
   ]
  },
  {
   "cell_type": "code",
   "execution_count": null,
   "metadata": {},
   "outputs": [],
   "source": []
  },
  {
   "cell_type": "markdown",
   "metadata": {},
   "source": [
    "#### Reverse function to calculate won and lost trades on data sample:"
   ]
  },
  {
   "cell_type": "code",
   "execution_count": 60,
   "metadata": {},
   "outputs": [],
   "source": [
    "def reversed_calculate_win_loss(confidence,predictions,target):\n",
    "    WON = 0\n",
    "    LOST = 0\n",
    "    counter = 0\n",
    "    for prediction_check in predictions:\n",
    "        if prediction_check > confidence: # or prediction_check < 1-confidence:\n",
    "            if np.argmax(predictions[counter]) != target[counter]:\n",
    "                WON = WON + 1\n",
    "            else:\n",
    "                LOST = LOST + 1\n",
    "        counter = counter + 1\n",
    "    return WON,LOST"
   ]
  },
  {
   "cell_type": "markdown",
   "metadata": {},
   "source": [
    "##### Reversed function to calculate consequitive trades:"
   ]
  },
  {
   "cell_type": "code",
   "execution_count": 43,
   "metadata": {},
   "outputs": [],
   "source": [
    "def reversed_calculate_consequitive_trades(confidence,predictions,target):\n",
    "    counter = 0\n",
    "    ConsequtiveStats = []\n",
    "    for prediction_check in predictions:\n",
    "        if prediction_check > confidence: # or prediction_check < 1-confidence:\n",
    "            if np.argmax(predictions[counter]) != target[counter]:\n",
    "                ConsequtiveStats.append(1)\n",
    "            else:\n",
    "                ConsequtiveStats.append(0)\n",
    "        counter = counter + 1\n",
    "    z = [(x[0], len(list(x[1]))) for x in itertools.groupby(ConsequtiveStats)]    \n",
    "    MaxLost = 0\n",
    "    MaxWon = 0\n",
    "    for a in z:\n",
    "        if a[0]==0:\n",
    "            if a[1] > MaxLost: MaxLost = a[1]\n",
    "        else:\n",
    "            if a[1] > MaxWon: MaxWon = a[1]     \n",
    "    return MaxWon,MaxLost"
   ]
  },
  {
   "cell_type": "markdown",
   "metadata": {},
   "source": [
    "##### Reversed function to calculate trades per weekday"
   ]
  },
  {
   "cell_type": "code",
   "execution_count": 44,
   "metadata": {},
   "outputs": [],
   "source": [
    "def reversed_recalculate_week_trades(confidence,predictions,target,decoded_weekdays):\n",
    "    counter = 0\n",
    "    WeekDayStats = {'Monday':[0,0],'Tuesday':[0,0],'Wendsday':[0,0],'Thursday':[0,0],'Friday':[0,0]}\n",
    "    for prediction_check in predictions:\n",
    "        if prediction_check > confidence: # or prediction_check < 1-confidence:\n",
    "            if np.argmax(predictions[counter]) != target[counter]:\n",
    "                trade_status = 0\n",
    "            else:\n",
    "                trade_status = 1\n",
    "            if decoded_weekdays[counter][1] == 0: WeekDayStats['Monday'][trade_status] = WeekDayStats['Monday'][trade_status] + 1\n",
    "            if decoded_weekdays[counter][1] == 0.25: WeekDayStats['Tuesday'][trade_status] = WeekDayStats['Tuesday'][trade_status] + 1\n",
    "            if decoded_weekdays[counter][1] == 0.5: WeekDayStats['Wendsday'][trade_status] = WeekDayStats['Wendsday'][trade_status] + 1\n",
    "            if decoded_weekdays[counter][1] == 0.75: WeekDayStats['Thursday'][trade_status] = WeekDayStats['Thursday'][trade_status] + 1\n",
    "            if decoded_weekdays[counter][1] == 1: WeekDayStats['Friday'][trade_status] = WeekDayStats['Friday'][trade_status] + 1\n",
    "        counter = counter + 1\n",
    "        \n",
    "    Weekdays = round(len(predictions)/7200,0)    \n",
    "    for key, value in WeekDayStats.items():\n",
    "        value[0] = round(value[0]/Weekdays,0)\n",
    "        value[1] = round(value[1]/Weekdays,0)\n",
    "    \n",
    "    return WeekDayStats,Weekdays"
   ]
  },
  {
   "cell_type": "markdown",
   "metadata": {},
   "source": [
    "##### Reversed function to calculate P&L"
   ]
  },
  {
   "cell_type": "code",
   "execution_count": 45,
   "metadata": {},
   "outputs": [],
   "source": [
    "def reversed_calculate_p_and_l(confidence,predictions,target,trade_return,starting_balance,trade_percent,withdraw_percent):\n",
    "    counter = 0\n",
    "    withdraws = []\n",
    "    balance = []\n",
    "    balance.append(starting_balance)\n",
    "    \n",
    "    for prediction_check in predictions:\n",
    "        if counter % 7200 == 0: \n",
    "            if balance[len(balance)-1] > 10*starting_balance:\n",
    "                withdraws.append(balance[len(balance)-1] *withdraw_percent)\n",
    "                balance[len(balance)-1] = balance[len(balance)-1] * (1-withdraw_percent)\n",
    "            else:\n",
    "                withdraws.append(0)\n",
    "        if prediction_check > confidence: # or prediction_check < 1-confidence:\n",
    "            \n",
    "            next_balance = balance[len(balance)-1]\n",
    "            trade_size = next_balance*trade_percent\n",
    "            next_balance = next_balance - trade_size\n",
    "            \n",
    "            if np.argmax(predictions[counter]) != target[counter]:\n",
    "                next_balance = next_balance + (trade_size*trade_return)\n",
    "            balance.append(round(next_balance,2))\n",
    "            \n",
    "        counter = counter + 1\n",
    "    return balance,withdraws"
   ]
  },
  {
   "cell_type": "markdown",
   "metadata": {},
   "source": [
    "##### Reversed function to calculate won and lost trades on data sample:"
   ]
  },
  {
   "cell_type": "code",
   "execution_count": 46,
   "metadata": {},
   "outputs": [],
   "source": [
    "def reversed_calculate_win_loss(confidence,predictions,target):\n",
    "    WON = 0\n",
    "    LOST = 0\n",
    "    counter = 0\n",
    "    for prediction_check in predictions:\n",
    "        if prediction_check > confidence: # or prediction_check < 1-confidence:\n",
    "            if np.argmax(predictions[counter]) != target[counter]:\n",
    "                WON = WON + 1\n",
    "            else:\n",
    "                LOST = LOST + 1\n",
    "        counter = counter + 1\n",
    "    return WON,LOST"
   ]
  },
  {
   "cell_type": "markdown",
   "metadata": {},
   "source": [
    "##### Reversed function to calculate consequitive trades:"
   ]
  },
  {
   "cell_type": "code",
   "execution_count": 64,
   "metadata": {},
   "outputs": [],
   "source": [
    "def reversed_calculate_consequitive_trades(confidence,predictions,target):\n",
    "    counter = 0\n",
    "    ConsequtiveStats = []\n",
    "    for prediction_check in predictions:\n",
    "        if prediction_check > confidence: # or prediction_check < 1-confidence:\n",
    "            if np.argmax(predictions[counter]) != target[counter]:\n",
    "                ConsequtiveStats.append(1)\n",
    "            else:\n",
    "                ConsequtiveStats.append(0)\n",
    "        counter = counter + 1\n",
    "    z = [(x[0], len(list(x[1]))) for x in itertools.groupby(ConsequtiveStats)]    \n",
    "    MaxLost = 0\n",
    "    MaxWon = 0\n",
    "    for a in z:\n",
    "        if a[0]==0:\n",
    "            if a[1] > MaxLost: MaxLost = a[1]\n",
    "        else:\n",
    "            if a[1] > MaxWon: MaxWon = a[1]     \n",
    "    return MaxWon,MaxLost"
   ]
  },
  {
   "cell_type": "markdown",
   "metadata": {},
   "source": [
    "#### Reversed function to calculate trades per weekday"
   ]
  },
  {
   "cell_type": "code",
   "execution_count": 48,
   "metadata": {},
   "outputs": [],
   "source": [
    "def reversed_calculate_week_trades(confidence,predictions,target,decoded_weekdays):\n",
    "    counter = 0\n",
    "    WeekDayStats = {'Monday':[0,0],'Tuesday':[0,0],'Wendsday':[0,0],'Thursday':[0,0],'Friday':[0,0]}\n",
    "    for prediction_check in predictions:\n",
    "        if prediction_check > confidence: # or prediction_check < 1-confidence:\n",
    "            if np.argmax(predictions[counter]) != target[counter]:\n",
    "                trade_status = 0\n",
    "            else:\n",
    "                trade_status = 1\n",
    "            if decoded_weekdays[counter][1] == 0: WeekDayStats['Monday'][trade_status] = WeekDayStats['Monday'][trade_status] + 1\n",
    "            if decoded_weekdays[counter][1] == 0.25: WeekDayStats['Tuesday'][trade_status] = WeekDayStats['Tuesday'][trade_status] + 1\n",
    "            if decoded_weekdays[counter][1] == 0.5: WeekDayStats['Wendsday'][trade_status] = WeekDayStats['Wendsday'][trade_status] + 1\n",
    "            if decoded_weekdays[counter][1] == 0.75: WeekDayStats['Thursday'][trade_status] = WeekDayStats['Thursday'][trade_status] + 1\n",
    "            if decoded_weekdays[counter][1] == 1: WeekDayStats['Friday'][trade_status] = WeekDayStats['Friday'][trade_status] + 1\n",
    "        counter = counter + 1\n",
    "        \n",
    "    Weekdays = round(len(predictions)/7200,0)    \n",
    "    for key, value in WeekDayStats.items():\n",
    "        value[0] = round(value[0]/Weekdays,0)\n",
    "        value[1] = round(value[1]/Weekdays,0)\n",
    "    \n",
    "    return WeekDayStats,Weekdays"
   ]
  },
  {
   "cell_type": "markdown",
   "metadata": {},
   "source": [
    "##### Reversed function to calculate P&L"
   ]
  },
  {
   "cell_type": "code",
   "execution_count": 74,
   "metadata": {},
   "outputs": [],
   "source": [
    "def reversed_calculate_p_and_l(confidence,predictions,target,trade_return,starting_balance,trade_percent,withdraw_percent):\n",
    "    counter = 0\n",
    "    withdraws = []\n",
    "    balance = []\n",
    "    balance.append(starting_balance)\n",
    "    \n",
    "    for prediction_check in predictions:\n",
    "        if counter % 7200 == 0: \n",
    "            if balance[len(balance)-1] > 10*starting_balance:\n",
    "                withdraws.append(balance[len(balance)-1] *withdraw_percent)\n",
    "                balance[len(balance)-1] = balance[len(balance)-1] * (1-withdraw_percent)\n",
    "            else:\n",
    "                withdraws.append(0)\n",
    "        if prediction_check > confidence: # or prediction_check < 1-confidence:\n",
    "            \n",
    "            next_balance = balance[len(balance)-1]\n",
    "            trade_size = next_balance*trade_percent\n",
    "            next_balance = next_balance - trade_size\n",
    "            \n",
    "            if np.argmax(predictions[counter]) != target[counter]:\n",
    "                next_balance = next_balance + (trade_size*trade_return)\n",
    "            balance.append(round(next_balance,2))\n",
    "            \n",
    "        counter = counter + 1\n",
    "    return balance,withdraws"
   ]
  },
  {
   "cell_type": "code",
   "execution_count": null,
   "metadata": {},
   "outputs": [],
   "source": []
  },
  {
   "cell_type": "code",
   "execution_count": null,
   "metadata": {},
   "outputs": [],
   "source": []
  },
  {
   "cell_type": "markdown",
   "metadata": {},
   "source": [
    "### Step 2: Load the test dataset"
   ]
  },
  {
   "cell_type": "code",
   "execution_count": null,
   "metadata": {},
   "outputs": [],
   "source": []
  },
  {
   "cell_type": "markdown",
   "metadata": {},
   "source": [
    "## load model"
   ]
  },
  {
   "cell_type": "code",
   "execution_count": 50,
   "metadata": {},
   "outputs": [
    {
     "name": "stdout",
     "output_type": "stream",
     "text": [
      "Model: \"sequential_1\"\n",
      "_________________________________________________________________\n",
      "Layer (type)                 Output Shape              Param #   \n",
      "=================================================================\n",
      "dense_1 (Dense)              (None, 128)               21248     \n",
      "_________________________________________________________________\n",
      "dense_2 (Dense)              (None, 64)                8256      \n",
      "_________________________________________________________________\n",
      "dense_3 (Dense)              (None, 32)                2080      \n",
      "_________________________________________________________________\n",
      "dense_4 (Dense)              (None, 16)                528       \n",
      "_________________________________________________________________\n",
      "dense_5 (Dense)              (None, 1)                 17        \n",
      "=================================================================\n",
      "Total params: 32,129\n",
      "Trainable params: 32,129\n",
      "Non-trainable params: 0\n",
      "_________________________________________________________________\n"
     ]
    }
   ],
   "source": [
    "from keras.models import load_model\n",
    "\n",
    "# load model\n",
    "model = load_model('model3.h5')\n",
    "# summarize model.\n",
    "model.summary()"
   ]
  },
  {
   "cell_type": "markdown",
   "metadata": {},
   "source": [
    "# Part 6. -  Evaluate model on other asset"
   ]
  },
  {
   "cell_type": "markdown",
   "metadata": {},
   "source": [
    "### Load GBP/USD  1 minute candle data from csv."
   ]
  },
  {
   "cell_type": "code",
   "execution_count": 51,
   "metadata": {},
   "outputs": [],
   "source": [
    "\n",
    "ddf_pd2 = pd.read_csv('GBPUSD_2018.csv')\n",
    "ddf_pd2=ddf_pd2[::-1]\n",
    "ddf_pd2=ddf_pd2.head(400000)"
   ]
  },
  {
   "cell_type": "markdown",
   "metadata": {},
   "source": [
    "### Create features for loaded dataset"
   ]
  },
  {
   "cell_type": "code",
   "execution_count": 52,
   "metadata": {},
   "outputs": [
    {
     "name": "stdout",
     "output_type": "stream",
     "text": [
      "Step 1: Time conversion to Weekday, Hour, Minute\n",
      "Step 2: Calculation Body,Wicks sizes and type of candle\n",
      "Step 3: Calculate MACD\n",
      "Step 4: Calculate EMA 9\n",
      "Step 5: Calculate RSI\n"
     ]
    },
    {
     "name": "stderr",
     "output_type": "stream",
     "text": [
      "/opt/conda/lib/python3.6/site-packages/ipykernel_launcher.py:34: SettingWithCopyWarning: \n",
      "A value is trying to be set on a copy of a slice from a DataFrame.\n",
      "Try using .loc[row_indexer,col_indexer] = value instead\n",
      "\n",
      "See the caveats in the documentation: http://pandas.pydata.org/pandas-docs/stable/indexing.html#indexing-view-versus-copy\n",
      "/opt/conda/lib/python3.6/site-packages/ipykernel_launcher.py:35: SettingWithCopyWarning: \n",
      "A value is trying to be set on a copy of a slice from a DataFrame.\n",
      "Try using .loc[row_indexer,col_indexer] = value instead\n",
      "\n",
      "See the caveats in the documentation: http://pandas.pydata.org/pandas-docs/stable/indexing.html#indexing-view-versus-copy\n",
      "/opt/conda/lib/python3.6/site-packages/ipykernel_launcher.py:36: SettingWithCopyWarning: \n",
      "A value is trying to be set on a copy of a slice from a DataFrame.\n",
      "Try using .loc[row_indexer,col_indexer] = value instead\n",
      "\n",
      "See the caveats in the documentation: http://pandas.pydata.org/pandas-docs/stable/indexing.html#indexing-view-versus-copy\n"
     ]
    },
    {
     "name": "stdout",
     "output_type": "stream",
     "text": [
      "Step 6: Calculate Bolinger Bands\n",
      "Step 7: Generating candle backwards [Candle: 1]\n",
      "Step 7: Generating candle backwards [Candle: 2]\n",
      "Step 7: Generating candle backwards [Candle: 3]\n",
      "Step 7: Generating candle backwards [Candle: 4]\n",
      "Step 7: Generating candle backwards [Candle: 5]\n",
      "Step 7: Generating candle backwards [Candle: 6]\n",
      "Step 7: Generating candle backwards [Candle: 7]\n",
      "Step 7: Generating candle backwards [Candle: 8]\n",
      "Step 7: Generating candle backwards [Candle: 9]\n",
      "Step 7: Generating candle backwards [Candle: 10]\n",
      "Step 8: Generating prediction column\n",
      "Step 9: Deleting waste columns\n"
     ]
    }
   ],
   "source": [
    "\n",
    "ddf_pd2=FeatureEnginering(ddf_pd2)"
   ]
  },
  {
   "cell_type": "markdown",
   "metadata": {},
   "source": [
    "### Slice the dataset to get list of date times"
   ]
  },
  {
   "cell_type": "code",
   "execution_count": 53,
   "metadata": {},
   "outputs": [],
   "source": [
    "\n",
    "D = ddf_pd2.values[:, :2]"
   ]
  },
  {
   "cell_type": "markdown",
   "metadata": {},
   "source": [
    "### Slice and normalize the dataset to get the input format"
   ]
  },
  {
   "cell_type": "code",
   "execution_count": 54,
   "metadata": {},
   "outputs": [],
   "source": [
    "\n",
    "min_max_scaler = preprocessing.MinMaxScaler()\n",
    "X = ddf_pd2.values[:, 1:166]\n",
    "X = min_max_scaler.fit_transform(X)"
   ]
  },
  {
   "cell_type": "markdown",
   "metadata": {},
   "source": [
    "### Slice the dataset to get the output format"
   ]
  },
  {
   "cell_type": "code",
   "execution_count": 55,
   "metadata": {},
   "outputs": [],
   "source": [
    "\n",
    "Y = ddf_pd2.values[:, 166:]\n",
    "del ddf_pd2"
   ]
  },
  {
   "cell_type": "markdown",
   "metadata": {},
   "source": [
    "### Make model predictions on GBP/USD dataset."
   ]
  },
  {
   "cell_type": "code",
   "execution_count": 56,
   "metadata": {},
   "outputs": [
    {
     "name": "stdout",
     "output_type": "stream",
     "text": [
      "399900/399900 [==============================] - 22s 54us/step\n",
      "Test accuracy: 0.5308402100516189\n"
     ]
    }
   ],
   "source": [
    "\n",
    "test_loss, test_acc = model.evaluate(X, Y)\n",
    "print('Test accuracy:', test_acc)\n",
    "predictions = model.predict(X)"
   ]
  },
  {
   "cell_type": "code",
   "execution_count": null,
   "metadata": {},
   "outputs": [],
   "source": []
  },
  {
   "cell_type": "code",
   "execution_count": null,
   "metadata": {},
   "outputs": [],
   "source": []
  },
  {
   "cell_type": "code",
   "execution_count": null,
   "metadata": {},
   "outputs": [],
   "source": []
  },
  {
   "cell_type": "code",
   "execution_count": 61,
   "metadata": {},
   "outputs": [
    {
     "name": "stdout",
     "output_type": "stream",
     "text": [
      "Trades won: 107864, Trades lost: 15705\n",
      "Profitability: 87.29%\n"
     ]
    }
   ],
   "source": [
    "won_trades,lost_trades = reversed_calculate_win_loss(0.98,predictions,Y)\n",
    "print('Trades won: ' + str(won_trades) + ', Trades lost: ' + str(lost_trades))\n",
    "print('Profitability: ' + str(round((won_trades*100)/(won_trades+lost_trades),2)) + '%')\n"
   ]
  },
  {
   "cell_type": "code",
   "execution_count": 65,
   "metadata": {},
   "outputs": [
    {
     "name": "stdout",
     "output_type": "stream",
     "text": [
      "Max consequitive wins: 147, Max consequitive looses: 13\n"
     ]
    }
   ],
   "source": [
    "max_won,max_lost = reversed_calculate_consequitive_trades(0.98,predictions,Y)\n",
    "print('Max consequitive wins: ' + str(max_won) + ', Max consequitive looses: ' + str(max_lost))"
   ]
  },
  {
   "cell_type": "code",
   "execution_count": 66,
   "metadata": {
    "scrolled": true
   },
   "outputs": [
    {
     "name": "stdout",
     "output_type": "stream",
     "text": [
      "Data gathered from 56.0 weeks\n",
      "Average trades on Monday =  Won: 317.0, Lost: 40.0\n",
      "Average trades on Tuesday =  Won: 362.0, Lost: 48.0\n",
      "Average trades on Wendsday =  Won: 393.0, Lost: 55.0\n",
      "Average trades on Thursday =  Won: 417.0, Lost: 63.0\n",
      "Average trades on Friday =  Won: 381.0, Lost: 56.0\n"
     ]
    }
   ],
   "source": [
    "week_day_trades,traded_weeks = reversed_recalculate_week_trades(0.98,predictions,Y,D)\n",
    "print('Data gathered from ' + str(traded_weeks) + ' weeks')\n",
    "print('Average trades on Monday =  Won: ' + str(week_day_trades['Monday'][0]) + ', Lost: ' + str(week_day_trades['Monday'][1]))\n",
    "print('Average trades on Tuesday =  Won: ' + str(week_day_trades['Tuesday'][0]) + ', Lost: ' + str(week_day_trades['Tuesday'][1]))\n",
    "print('Average trades on Wendsday =  Won: ' + str(week_day_trades['Wendsday'][0]) + ', Lost: ' + str(week_day_trades['Wendsday'][1]))\n",
    "print('Average trades on Thursday =  Won: ' + str(week_day_trades['Thursday'][0]) + ', Lost: ' + str(week_day_trades['Thursday'][1]))\n",
    "print('Average trades on Friday =  Won: ' + str(week_day_trades['Friday'][0]) + ', Lost: ' + str(week_day_trades['Friday'][1]))"
   ]
  },
  {
   "cell_type": "code",
   "execution_count": 81,
   "metadata": {},
   "outputs": [],
   "source": [
    "profit_loss,weekly_withdraws = reversed_calculate_p_and_l(0.98,predictions,Y,1.7,50,0.01,0.9)"
   ]
  },
  {
   "cell_type": "code",
   "execution_count": 82,
   "metadata": {},
   "outputs": [
    {
     "data": {
      "text/plain": [
       "[50,\n",
       " 50.35,\n",
       " 50.7,\n",
       " 51.05,\n",
       " 51.41,\n",
       " 51.77,\n",
       " 52.13,\n",
       " 52.49,\n",
       " 52.86,\n",
       " 53.23,\n",
       " 53.6,\n",
       " 53.98,\n",
       " 54.36,\n",
       " 54.74,\n",
       " 55.12,\n",
       " 55.51,\n",
       " 55.9,\n",
       " 56.29,\n",
       " 56.68,\n",
       " 57.08,\n",
       " 57.48,\n",
       " 57.88,\n",
       " 58.29,\n",
       " 58.7,\n",
       " 59.11,\n",
       " 59.52,\n",
       " 59.94,\n",
       " 60.36,\n",
       " 60.78,\n",
       " 61.21,\n",
       " 61.64,\n",
       " 62.07,\n",
       " 62.5,\n",
       " 62.94,\n",
       " 62.31,\n",
       " 62.75,\n",
       " 63.19,\n",
       " 63.63,\n",
       " 64.08,\n",
       " 64.53,\n",
       " 64.98,\n",
       " 65.43,\n",
       " 65.89,\n",
       " 66.35,\n",
       " 66.81,\n",
       " 67.28,\n",
       " 67.75,\n",
       " 68.22,\n",
       " 68.7,\n",
       " 69.18,\n",
       " 69.66,\n",
       " 70.15,\n",
       " 70.64,\n",
       " 71.13,\n",
       " 71.63,\n",
       " 72.13,\n",
       " 72.63,\n",
       " 73.14,\n",
       " 73.65,\n",
       " 72.91,\n",
       " 73.42,\n",
       " 73.93,\n",
       " 74.45,\n",
       " 74.97,\n",
       " 74.22,\n",
       " 73.48,\n",
       " 72.75,\n",
       " 73.26,\n",
       " 73.77,\n",
       " 73.03,\n",
       " 73.54,\n",
       " 74.05,\n",
       " 73.31,\n",
       " 73.82,\n",
       " 73.08,\n",
       " 73.59,\n",
       " 74.11,\n",
       " 74.63,\n",
       " 75.15,\n",
       " 75.68,\n",
       " 76.21,\n",
       " 76.74,\n",
       " 77.28,\n",
       " 77.82,\n",
       " 78.36,\n",
       " 78.91,\n",
       " 79.46,\n",
       " 80.02,\n",
       " 80.58,\n",
       " 81.14,\n",
       " 81.71,\n",
       " 82.28,\n",
       " 81.46,\n",
       " 80.65,\n",
       " 81.21,\n",
       " 81.78,\n",
       " 82.35,\n",
       " 82.93,\n",
       " 83.51,\n",
       " 84.09,\n",
       " 84.68,\n",
       " 85.27,\n",
       " 85.87,\n",
       " 86.47,\n",
       " 87.08,\n",
       " 87.69,\n",
       " 88.3,\n",
       " 88.92,\n",
       " 89.54,\n",
       " 90.17,\n",
       " 90.8,\n",
       " 91.44,\n",
       " 92.08,\n",
       " 92.72,\n",
       " 93.37,\n",
       " 94.02,\n",
       " 94.68,\n",
       " 95.34,\n",
       " 96.01,\n",
       " 96.68,\n",
       " 97.36,\n",
       " 98.04,\n",
       " 98.73,\n",
       " 99.42,\n",
       " 100.12,\n",
       " 100.82,\n",
       " 101.53,\n",
       " 102.24,\n",
       " 102.96,\n",
       " 103.68,\n",
       " 104.41,\n",
       " 105.14,\n",
       " 105.88,\n",
       " 106.62,\n",
       " 107.37,\n",
       " 108.12,\n",
       " 108.88,\n",
       " 109.64,\n",
       " 110.41,\n",
       " 111.18,\n",
       " 111.96,\n",
       " 112.74,\n",
       " 113.53,\n",
       " 114.32,\n",
       " 113.18,\n",
       " 113.97,\n",
       " 114.77,\n",
       " 115.57,\n",
       " 116.38,\n",
       " 117.19,\n",
       " 118.01,\n",
       " 118.84,\n",
       " 119.67,\n",
       " 120.51,\n",
       " 121.35,\n",
       " 122.2,\n",
       " 123.06,\n",
       " 123.92,\n",
       " 124.79,\n",
       " 125.66,\n",
       " 126.54,\n",
       " 127.43,\n",
       " 128.32,\n",
       " 129.22,\n",
       " 130.12,\n",
       " 131.03,\n",
       " 131.95,\n",
       " 132.87,\n",
       " 133.8,\n",
       " 134.74,\n",
       " 135.68,\n",
       " 136.63,\n",
       " 137.59,\n",
       " 138.55,\n",
       " 139.52,\n",
       " 140.5,\n",
       " 141.48,\n",
       " 142.47,\n",
       " 143.47,\n",
       " 144.47,\n",
       " 145.48,\n",
       " 146.5,\n",
       " 147.53,\n",
       " 148.56,\n",
       " 149.6,\n",
       " 150.65,\n",
       " 149.14,\n",
       " 150.18,\n",
       " 151.23,\n",
       " 152.29,\n",
       " 153.36,\n",
       " 154.43,\n",
       " 155.51,\n",
       " 153.95,\n",
       " 152.41,\n",
       " 153.48,\n",
       " 154.55,\n",
       " 155.63,\n",
       " 156.72,\n",
       " 157.82,\n",
       " 158.92,\n",
       " 160.03,\n",
       " 161.15,\n",
       " 162.28,\n",
       " 163.42,\n",
       " 164.56,\n",
       " 165.71,\n",
       " 166.87,\n",
       " 168.04,\n",
       " 166.36,\n",
       " 167.52,\n",
       " 168.69,\n",
       " 169.87,\n",
       " 171.06,\n",
       " 172.26,\n",
       " 173.47,\n",
       " 174.68,\n",
       " 175.9,\n",
       " 177.13,\n",
       " 178.37,\n",
       " 176.59,\n",
       " 174.82,\n",
       " 173.07,\n",
       " 171.34,\n",
       " 169.63,\n",
       " 167.93,\n",
       " 169.11,\n",
       " 170.29,\n",
       " 171.48,\n",
       " 169.77,\n",
       " 170.96,\n",
       " 172.16,\n",
       " 173.37,\n",
       " 174.58,\n",
       " 175.8,\n",
       " 177.03,\n",
       " 175.26,\n",
       " 173.51,\n",
       " 174.72,\n",
       " 175.94,\n",
       " 177.17,\n",
       " 178.41,\n",
       " 179.66,\n",
       " 180.92,\n",
       " 182.19,\n",
       " 183.47,\n",
       " 184.75,\n",
       " 186.04,\n",
       " 187.34,\n",
       " 188.65,\n",
       " 189.97,\n",
       " 191.3,\n",
       " 192.64,\n",
       " 193.99,\n",
       " 195.35,\n",
       " 196.72,\n",
       " 194.75,\n",
       " 196.11,\n",
       " 197.48,\n",
       " 198.86,\n",
       " 200.25,\n",
       " 201.65,\n",
       " 203.06,\n",
       " 204.48,\n",
       " 205.91,\n",
       " 207.35,\n",
       " 208.8,\n",
       " 210.26,\n",
       " 211.73,\n",
       " 213.21,\n",
       " 214.7,\n",
       " 216.2,\n",
       " 217.71,\n",
       " 219.23,\n",
       " 220.76,\n",
       " 222.31,\n",
       " 223.87,\n",
       " 225.44,\n",
       " 227.02,\n",
       " 224.75,\n",
       " 222.5,\n",
       " 220.28,\n",
       " 221.82,\n",
       " 223.37,\n",
       " 221.14,\n",
       " 218.93,\n",
       " 220.46,\n",
       " 222.0,\n",
       " 223.55,\n",
       " 225.11,\n",
       " 226.69,\n",
       " 224.42,\n",
       " 225.99,\n",
       " 227.57,\n",
       " 229.16,\n",
       " 226.87,\n",
       " 228.46,\n",
       " 226.18,\n",
       " 223.92,\n",
       " 225.49,\n",
       " 227.07,\n",
       " 228.66,\n",
       " 230.26,\n",
       " 231.87,\n",
       " 233.49,\n",
       " 235.12,\n",
       " 236.77,\n",
       " 238.43,\n",
       " 240.1,\n",
       " 241.78,\n",
       " 243.47,\n",
       " 245.17,\n",
       " 246.89,\n",
       " 248.62,\n",
       " 250.36,\n",
       " 252.11,\n",
       " 253.87,\n",
       " 255.65,\n",
       " 257.44,\n",
       " 259.24,\n",
       " 261.05,\n",
       " 262.88,\n",
       " 264.72,\n",
       " 266.57,\n",
       " 268.44,\n",
       " 270.32,\n",
       " 272.21,\n",
       " 274.12,\n",
       " 276.04,\n",
       " 277.97,\n",
       " 279.92,\n",
       " 281.88,\n",
       " 283.85,\n",
       " 285.84,\n",
       " 282.98,\n",
       " 280.15,\n",
       " 282.11,\n",
       " 284.08,\n",
       " 286.07,\n",
       " 288.07,\n",
       " 285.19,\n",
       " 287.19,\n",
       " 289.2,\n",
       " 291.22,\n",
       " 293.26,\n",
       " 295.31,\n",
       " 297.38,\n",
       " 299.46,\n",
       " 301.56,\n",
       " 303.67,\n",
       " 305.8,\n",
       " 307.94,\n",
       " 310.1,\n",
       " 312.27,\n",
       " 314.46,\n",
       " 316.66,\n",
       " 318.88,\n",
       " 321.11,\n",
       " 323.36,\n",
       " 325.62,\n",
       " 327.9,\n",
       " 330.2,\n",
       " 332.51,\n",
       " 334.84,\n",
       " 337.18,\n",
       " 333.81,\n",
       " 330.47,\n",
       " 332.78,\n",
       " 335.11,\n",
       " 337.46,\n",
       " 339.82,\n",
       " 342.2,\n",
       " 344.6,\n",
       " 347.01,\n",
       " 349.44,\n",
       " 351.89,\n",
       " 354.35,\n",
       " 356.83,\n",
       " 359.33,\n",
       " 361.85,\n",
       " 364.38,\n",
       " 366.93,\n",
       " 369.5,\n",
       " 372.09,\n",
       " 374.69,\n",
       " 377.31,\n",
       " 379.95,\n",
       " 382.61,\n",
       " 385.29,\n",
       " 387.99,\n",
       " 390.71,\n",
       " 393.44,\n",
       " 396.19,\n",
       " 398.96,\n",
       " 401.75,\n",
       " 404.56,\n",
       " 407.39,\n",
       " 410.24,\n",
       " 413.11,\n",
       " 416.0,\n",
       " 418.91,\n",
       " 414.72,\n",
       " 417.62,\n",
       " 420.54,\n",
       " 423.48,\n",
       " 426.44,\n",
       " 429.43,\n",
       " 432.44,\n",
       " 435.47,\n",
       " 438.52,\n",
       " 441.59,\n",
       " 444.68,\n",
       " 447.79,\n",
       " 450.92,\n",
       " 454.08,\n",
       " 457.26,\n",
       " 460.46,\n",
       " 463.68,\n",
       " 466.93,\n",
       " 470.2,\n",
       " 473.49,\n",
       " 476.8,\n",
       " 480.14,\n",
       " 483.5,\n",
       " 486.88,\n",
       " 490.29,\n",
       " 493.72,\n",
       " 497.18,\n",
       " 500.66,\n",
       " 504.16,\n",
       " 507.69,\n",
       " 511.24,\n",
       " 514.82,\n",
       " 518.42,\n",
       " 522.05,\n",
       " 525.7,\n",
       " 529.38,\n",
       " 533.09,\n",
       " 536.82,\n",
       " 540.58,\n",
       " 544.36,\n",
       " 548.17,\n",
       " 552.01,\n",
       " 555.87,\n",
       " 559.76,\n",
       " 563.68,\n",
       " 567.63,\n",
       " 571.6,\n",
       " 575.6,\n",
       " 579.63,\n",
       " 583.69,\n",
       " 587.78,\n",
       " 591.89,\n",
       " 596.03,\n",
       " 600.2,\n",
       " 604.4,\n",
       " 608.63,\n",
       " 612.89,\n",
       " 617.18,\n",
       " 621.5,\n",
       " 625.85,\n",
       " 630.23,\n",
       " 634.64,\n",
       " 639.08,\n",
       " 643.55,\n",
       " 648.05,\n",
       " 641.57,\n",
       " 646.06,\n",
       " 650.58,\n",
       " 655.13,\n",
       " 659.72,\n",
       " 664.34,\n",
       " 668.99,\n",
       " 673.67,\n",
       " 678.39,\n",
       " 683.14,\n",
       " 687.92,\n",
       " 692.74,\n",
       " 697.59,\n",
       " 690.61,\n",
       " 695.44,\n",
       " 700.31,\n",
       " 705.21,\n",
       " 710.15,\n",
       " 715.12,\n",
       " 720.13,\n",
       " 725.17,\n",
       " 730.25,\n",
       " 735.36,\n",
       " 740.51,\n",
       " 745.69,\n",
       " 750.91,\n",
       " 756.17,\n",
       " 761.46,\n",
       " 766.79,\n",
       " 772.16,\n",
       " 777.57,\n",
       " 783.01,\n",
       " 775.18,\n",
       " 780.61,\n",
       " 786.07,\n",
       " 791.57,\n",
       " 797.11,\n",
       " 802.69,\n",
       " 808.31,\n",
       " 813.97,\n",
       " 819.67,\n",
       " 825.41,\n",
       " 831.19,\n",
       " 837.01,\n",
       " 842.87,\n",
       " 848.77,\n",
       " 854.71,\n",
       " 860.69,\n",
       " 866.71,\n",
       " 872.78,\n",
       " 864.05,\n",
       " 870.1,\n",
       " 876.19,\n",
       " 882.32,\n",
       " 888.5,\n",
       " 894.72,\n",
       " 900.98,\n",
       " 907.29,\n",
       " 913.64,\n",
       " 920.04,\n",
       " 926.48,\n",
       " 932.97,\n",
       " 939.5,\n",
       " 930.11,\n",
       " 920.81,\n",
       " 911.6,\n",
       " 902.48,\n",
       " 908.8,\n",
       " 915.16,\n",
       " 921.57,\n",
       " 928.02,\n",
       " 934.52,\n",
       " 941.06,\n",
       " 947.65,\n",
       " 954.28,\n",
       " 960.96,\n",
       " 967.69,\n",
       " 974.46,\n",
       " 981.28,\n",
       " 988.15,\n",
       " 995.07,\n",
       " 1002.04,\n",
       " 1009.05,\n",
       " 1016.11,\n",
       " 1023.22,\n",
       " 1030.38,\n",
       " 1037.59,\n",
       " 1044.85,\n",
       " 1052.16,\n",
       " 1059.53,\n",
       " 1066.95,\n",
       " 1074.42,\n",
       " 1081.94,\n",
       " 1089.51,\n",
       " 1097.14,\n",
       " 1104.82,\n",
       " 1112.55,\n",
       " 1120.34,\n",
       " 1128.18,\n",
       " 1136.08,\n",
       " 1144.03,\n",
       " 1152.04,\n",
       " 1160.1,\n",
       " 1168.22,\n",
       " 1176.4,\n",
       " 1184.63,\n",
       " 1172.78,\n",
       " 1161.05,\n",
       " 1169.18,\n",
       " 1177.36,\n",
       " 1185.6,\n",
       " 1193.9,\n",
       " 1202.26,\n",
       " 1210.68,\n",
       " 1219.15,\n",
       " 1227.68,\n",
       " 1236.27,\n",
       " 1244.92,\n",
       " 1253.63,\n",
       " 1262.41,\n",
       " 1271.25,\n",
       " 1280.15,\n",
       " 1289.11,\n",
       " 1298.13,\n",
       " 1307.22,\n",
       " 1316.37,\n",
       " 1325.58,\n",
       " 1334.86,\n",
       " 1344.2,\n",
       " 1353.61,\n",
       " 1363.09,\n",
       " 1372.63,\n",
       " 1382.24,\n",
       " 1391.92,\n",
       " 1401.66,\n",
       " 1411.47,\n",
       " 1421.35,\n",
       " 1431.3,\n",
       " 1441.32,\n",
       " 1451.41,\n",
       " 1461.57,\n",
       " 1446.95,\n",
       " 1457.08,\n",
       " 1467.28,\n",
       " 1477.55,\n",
       " 1487.89,\n",
       " 1498.31,\n",
       " 1508.8,\n",
       " 1519.36,\n",
       " 1530.0,\n",
       " 1540.71,\n",
       " 1551.49,\n",
       " 1562.35,\n",
       " 1573.29,\n",
       " 1584.3,\n",
       " 1595.39,\n",
       " 1606.56,\n",
       " 1617.81,\n",
       " 1629.13,\n",
       " 1612.84,\n",
       " 1624.13,\n",
       " 1635.5,\n",
       " 1646.95,\n",
       " 1658.48,\n",
       " 1670.09,\n",
       " 1681.78,\n",
       " 1693.55,\n",
       " 1676.61,\n",
       " 1688.35,\n",
       " 1700.17,\n",
       " 1712.07,\n",
       " 1724.05,\n",
       " 1736.12,\n",
       " 1748.27,\n",
       " 1760.51,\n",
       " 1772.83,\n",
       " 1785.24,\n",
       " 1797.74,\n",
       " 1810.32,\n",
       " 1822.99,\n",
       " 1835.75,\n",
       " 1848.6,\n",
       " 1861.54,\n",
       " 1874.57,\n",
       " 1887.69,\n",
       " 1900.9,\n",
       " 1914.21,\n",
       " 1927.61,\n",
       " 1941.1,\n",
       " 1954.69,\n",
       " 1968.37,\n",
       " 1982.15,\n",
       " 1996.03,\n",
       " 2010.0,\n",
       " 2024.07,\n",
       " 2038.24,\n",
       " 2052.51,\n",
       " 2066.88,\n",
       " 2081.35,\n",
       " 2095.92,\n",
       " 2110.59,\n",
       " 2125.36,\n",
       " 2140.24,\n",
       " 2118.84,\n",
       " 2133.67,\n",
       " 2148.61,\n",
       " 2163.65,\n",
       " 2178.8,\n",
       " 2194.05,\n",
       " 2209.41,\n",
       " 2224.88,\n",
       " 2240.45,\n",
       " 2256.13,\n",
       " 2271.92,\n",
       " 2287.82,\n",
       " 2303.83,\n",
       " 2319.96,\n",
       " 2336.2,\n",
       " 2352.55,\n",
       " 2369.02,\n",
       " 2385.6,\n",
       " 2402.3,\n",
       " 2419.12,\n",
       " 2436.05,\n",
       " 2453.1,\n",
       " 2470.27,\n",
       " 2487.56,\n",
       " 2504.97,\n",
       " 2522.5,\n",
       " 2540.16,\n",
       " 2557.94,\n",
       " 2575.85,\n",
       " 2593.88,\n",
       " 2612.04,\n",
       " 2630.32,\n",
       " 2648.73,\n",
       " 2667.27,\n",
       " 2685.94,\n",
       " 2704.74,\n",
       " 2723.67,\n",
       " 2742.74,\n",
       " 2761.94,\n",
       " 2781.27,\n",
       " 2800.74,\n",
       " 2820.35,\n",
       " 2840.09,\n",
       " 2859.97,\n",
       " 2879.99,\n",
       " 2851.19,\n",
       " 2871.15,\n",
       " 2891.25,\n",
       " 2911.49,\n",
       " 2931.87,\n",
       " 2952.39,\n",
       " 2973.06,\n",
       " 2993.87,\n",
       " 3014.83,\n",
       " 3035.93,\n",
       " 3057.18,\n",
       " 3078.58,\n",
       " 3100.13,\n",
       " 3121.83,\n",
       " 3143.68,\n",
       " 3165.69,\n",
       " 3187.85,\n",
       " 3210.16,\n",
       " 3232.63,\n",
       " 3255.26,\n",
       " 3278.05,\n",
       " 3245.27,\n",
       " 3267.99,\n",
       " 3290.87,\n",
       " 3313.91,\n",
       " 3337.11,\n",
       " 3360.47,\n",
       " 3383.99,\n",
       " 3407.68,\n",
       " 3431.53,\n",
       " 3455.55,\n",
       " 3479.74,\n",
       " 3504.1,\n",
       " 3469.06,\n",
       " 3493.34,\n",
       " 3517.79,\n",
       " 3542.41,\n",
       " 3567.21,\n",
       " 3592.18,\n",
       " 3617.33,\n",
       " 3642.65,\n",
       " 3668.15,\n",
       " 3693.83,\n",
       " 3719.69,\n",
       " 3745.73,\n",
       " 3771.95,\n",
       " 3798.35,\n",
       " 3824.94,\n",
       " 3851.71,\n",
       " 3878.67,\n",
       " 3905.82,\n",
       " 3933.16,\n",
       " 3960.69,\n",
       " 3988.41,\n",
       " 4016.33,\n",
       " 4044.44,\n",
       " 4072.75,\n",
       " 4101.26,\n",
       " 4129.97,\n",
       " 4158.88,\n",
       " 4187.99,\n",
       " 4217.31,\n",
       " 4246.83,\n",
       " 4276.56,\n",
       " 4306.5,\n",
       " 4336.65,\n",
       " 4293.28,\n",
       " 4250.35,\n",
       " 4280.1,\n",
       " 4310.06,\n",
       " 4340.23,\n",
       " 4370.61,\n",
       " 4401.2,\n",
       " 4432.01,\n",
       " 4463.03,\n",
       " 4494.27,\n",
       " 4525.73,\n",
       " 4557.41,\n",
       " 4589.31,\n",
       " 4621.44,\n",
       " 4653.79,\n",
       " 4686.37,\n",
       " 4719.17,\n",
       " 4752.2,\n",
       " 4785.47,\n",
       " 4818.97,\n",
       " 4852.7,\n",
       " 4886.67,\n",
       " 4920.88,\n",
       " 4955.33,\n",
       " 4990.02,\n",
       " 5024.95,\n",
       " 5060.12,\n",
       " 5095.54,\n",
       " 5131.21,\n",
       " 5167.13,\n",
       " 5203.3,\n",
       " 5239.72,\n",
       " 5276.4,\n",
       " 5313.33,\n",
       " 5350.52,\n",
       " 5387.97,\n",
       " 5425.69,\n",
       " 5463.67,\n",
       " 5501.92,\n",
       " 5540.43,\n",
       " 5579.21,\n",
       " 5618.26,\n",
       " 5657.59,\n",
       " 5697.19,\n",
       " 5737.07,\n",
       " 5777.23,\n",
       " 5817.67,\n",
       " 5858.39,\n",
       " 5899.4,\n",
       " 5840.41,\n",
       " 5782.01,\n",
       " 5822.48,\n",
       " 5863.24,\n",
       " 5904.28,\n",
       " 5945.61,\n",
       " 5987.23,\n",
       " 6029.14,\n",
       " 6071.34,\n",
       " 6113.84,\n",
       " 6156.64,\n",
       " 6199.74,\n",
       " 6243.14,\n",
       " 6286.84,\n",
       " 6330.85,\n",
       " 6375.17,\n",
       " 6419.8,\n",
       " 6464.74,\n",
       " 6509.99,\n",
       " 6555.56,\n",
       " 6601.45,\n",
       " 6647.66,\n",
       " 6694.19,\n",
       " 6741.05,\n",
       " 6788.24,\n",
       " 6835.76,\n",
       " 6767.4,\n",
       " 6699.73,\n",
       " 6746.63,\n",
       " 6793.86,\n",
       " 6841.42,\n",
       " 6889.31,\n",
       " 6937.54,\n",
       " 6986.1,\n",
       " 7035.0,\n",
       " 7084.24,\n",
       " 7133.83,\n",
       " 7183.77,\n",
       " 7111.93,\n",
       " 7040.81,\n",
       " 7090.1,\n",
       " 7139.73,\n",
       " 7189.71,\n",
       " 7240.04,\n",
       " 7290.72,\n",
       " 7341.76,\n",
       " 7268.34,\n",
       " 7319.22,\n",
       " 7370.45,\n",
       " 7422.04,\n",
       " 7473.99,\n",
       " 7526.31,\n",
       " 7578.99,\n",
       " 7503.2,\n",
       " 7428.17,\n",
       " 7480.17,\n",
       " 7405.37,\n",
       " 7457.21,\n",
       " 7509.41,\n",
       " 7561.98,\n",
       " 7486.36,\n",
       " 7538.76,\n",
       " 7591.53,\n",
       " 7644.67,\n",
       " 7698.18,\n",
       " 7752.07,\n",
       " 7806.33,\n",
       " 7860.97,\n",
       " 7916.0,\n",
       " 7971.41,\n",
       " 8027.21,\n",
       " 8083.4,\n",
       " 8139.98,\n",
       " 8196.96,\n",
       " 8114.99,\n",
       " 8033.84,\n",
       " 8090.08,\n",
       " 8146.71,\n",
       " 8203.74,\n",
       " 8261.17,\n",
       " 8319.0,\n",
       " 8377.23,\n",
       " 8435.87,\n",
       " 8494.92,\n",
       " 8554.38,\n",
       " 8614.26,\n",
       " 8674.56,\n",
       " 8735.28,\n",
       " 8796.43,\n",
       " 8858.01,\n",
       " 8769.43,\n",
       " 8681.74,\n",
       " 8594.92,\n",
       " 8508.97,\n",
       " 8423.88,\n",
       " 8339.64,\n",
       " 8398.02,\n",
       " 8314.04,\n",
       " 8230.9,\n",
       " 8148.59,\n",
       " 8067.1,\n",
       " 7986.43,\n",
       " 7906.57,\n",
       " 7961.92,\n",
       " 8017.65,\n",
       " 8073.77,\n",
       " 8130.29,\n",
       " 8187.2,\n",
       " 8244.51,\n",
       " 8302.22,\n",
       " 8360.34,\n",
       " 8418.86,\n",
       " 8477.79,\n",
       " 8537.13,\n",
       " 8596.89,\n",
       " 8657.07,\n",
       " 8717.67,\n",
       " 8778.69,\n",
       " 8840.14,\n",
       " 8902.02,\n",
       " 8964.33,\n",
       " 9027.08,\n",
       " 9090.27,\n",
       " 9153.9,\n",
       " 9217.98,\n",
       " 9282.51,\n",
       " 9189.68,\n",
       " 9254.01,\n",
       " 9318.79,\n",
       " 9384.02,\n",
       " 9449.71,\n",
       " 9515.86,\n",
       " 9582.47,\n",
       " 9486.65,\n",
       " 9553.06,\n",
       " 9619.93,\n",
       " 9687.27,\n",
       " 9755.08,\n",
       " 9823.37,\n",
       " 9892.13,\n",
       " 9793.21,\n",
       " 9861.76,\n",
       " 9930.79,\n",
       " 10000.31,\n",
       " 10070.31,\n",
       " 10140.8,\n",
       " 10211.79,\n",
       " 10283.27,\n",
       " 10355.25,\n",
       " 10427.74,\n",
       " 10500.73,\n",
       " 10574.24,\n",
       " 10648.26,\n",
       " 10722.8,\n",
       " 10797.86,\n",
       " 10873.45,\n",
       " 10949.56,\n",
       " 11026.21,\n",
       " 11103.39,\n",
       " 11181.11,\n",
       " 11069.3,\n",
       " 10958.61,\n",
       " 11035.32,\n",
       " 11112.57,\n",
       " 11190.36,\n",
       " 11268.69,\n",
       " 11347.57,\n",
       " 11234.09,\n",
       " 11312.73,\n",
       " 11391.92,\n",
       " 11471.66,\n",
       " ...]"
      ]
     },
     "execution_count": 82,
     "metadata": {},
     "output_type": "execute_result"
    }
   ],
   "source": [
    "profit_loss"
   ]
  },
  {
   "cell_type": "code",
   "execution_count": 83,
   "metadata": {},
   "outputs": [
    {
     "data": {
      "image/png": "[encoded data removed]",
      "text/plain": [
       "<Figure size 1080x1080 with 5 Axes>"
      ]
     },
     "metadata": {},
     "output_type": "display_data"
    }
   ],
   "source": [
    "plt.style.use('ggplot')\n",
    "f = plt.figure(figsize=(15,15))\n",
    "\n",
    "\n",
    "ax1 = f.add_subplot(321)\n",
    "ax1.set_title('Weekly withdraws')\n",
    "ax1.bar(np.arange(len(weekly_withdraws)),weekly_withdraws)\n",
    "\n",
    "\n",
    "ax3 = f.add_subplot(323)\n",
    "labels = 'WON', 'LOST'\n",
    "sizes = [won_trades, lost_trades]\n",
    "explode = (0, 0.1)  \n",
    "ax3.pie(sizes, explode=explode, labels=labels, autopct='%1.1f%%',shadow=True, startangle=90)\n",
    "ax3.set_title('Predictions above 98% confidence')\n",
    "\n",
    "ax4 = f.add_subplot(324)\n",
    "ax4.set_title('Consequitive wins and losses in a row')\n",
    "x = ['Won','Lost']\n",
    "ax4.bar(x, [max_won,max_lost])\n",
    "ax4.set_xticks(x, ('Won','Lost'))\n",
    "\n",
    "ax5 = f.add_subplot(325)\n",
    "TradesWonWeekDay = (sum(week_day_trades['Monday']), sum(week_day_trades['Tuesday']),sum(week_day_trades['Wendsday']), sum(week_day_trades['Monday']), sum(week_day_trades['Friday']))\n",
    "TradesLostWeekDay = (week_day_trades['Monday'][1], week_day_trades['Tuesday'][1], week_day_trades['Wendsday'][1], week_day_trades['Thursday'][1], week_day_trades['Friday'][1])\n",
    "p1 = plt.bar(np.arange(5) , TradesWonWeekDay, 0.35 )\n",
    "p2 = plt.bar(np.arange(5), TradesLostWeekDay, 0.35 )\n",
    "ax5.set_ylabel('Trades')\n",
    "ax5.set_title('Trades per Week Day during Weeks: ' + str(traded_weeks))\n",
    "ax5.set_xticks(np.arange(5), ('Monday', 'Tuesday', 'Wendsday', 'Thursday', 'Friday'))\n",
    "ax5.set_xlabel('Week days')\n",
    "ax5.legend((p1[0], p2[0]), ('WON', 'LOST'))\n",
    "\n",
    "ax6 = f.add_subplot(326)\n",
    "ax6.margins(0.1) \n",
    "ax6.plot(profit_loss)\n",
    "ax6.set_title('Model P&L')\n",
    "ax6.set_ylabel('P&L')\n",
    "ax6.set_xlabel('Trade')\n",
    "ax6.legend('Profit', loc='upper right')\n",
    "\n",
    "plt.show()\n",
    "\n"
   ]
  },
  {
   "cell_type": "code",
   "execution_count": null,
   "metadata": {},
   "outputs": [],
   "source": []
  },
  {
   "cell_type": "code",
   "execution_count": null,
   "metadata": {},
   "outputs": [],
   "source": []
  },
  {
   "cell_type": "code",
   "execution_count": null,
   "metadata": {},
   "outputs": [],
   "source": []
  },
  {
   "cell_type": "code",
   "execution_count": null,
   "metadata": {},
   "outputs": [],
   "source": []
  },
  {
   "cell_type": "markdown",
   "metadata": {},
   "source": [
    "## Part 7. - Make live prediction using Aplhafx API"
   ]
  },
  {
   "cell_type": "markdown",
   "metadata": {},
   "source": [
    "#### data downloaded from AlphaVantage free API\n",
    "API KEY: ZFO5PFRVOX72B03T"
   ]
  },
  {
   "cell_type": "markdown",
   "metadata": {},
   "source": [
    "### Download live data in csv format"
   ]
  },
  {
   "cell_type": "code",
   "execution_count": null,
   "metadata": {},
   "outputs": [],
   "source": [
    "\n",
    "current_dataset = pd.read_csv('https://www.alphavantage.co/query?function=FX_INTRADAY&from_symbol=EUR&to_symbol=USD&interval=1min&apikey=ZFO5PFRVOX72B03T&datatype=csv')"
   ]
  },
  {
   "cell_type": "markdown",
   "metadata": {},
   "source": [
    "### Get prediction time"
   ]
  },
  {
   "cell_type": "code",
   "execution_count": null,
   "metadata": {
    "scrolled": true
   },
   "outputs": [],
   "source": [
    "prediction_time = current_dataset.values[0:1,0:1][0][0]"
   ]
  },
  {
   "cell_type": "markdown",
   "metadata": {},
   "source": [
    "### Modified funtcion for live feature engineering"
   ]
  },
  {
   "cell_type": "code",
   "execution_count": null,
   "metadata": {},
   "outputs": [],
   "source": [
    "def FeatureEnginering_AplhaVantage(MyRawData, Quite=True):\n",
    "    #calculate time series\n",
    "    #MyRawData['WeekDay'] = ((pd.to_datetime(MyRawData['Gmt time'], format='%d.%m.%Y %H:%M:%S.000', utc=True)).dt.dayofweek.astype(dtype=np.int64)/4)\n",
    "    MyRawData['timestamp'] = pd.to_datetime(MyRawData['timestamp'], format='%Y-%m-%d %H:%M:%S', utc=True)\n",
    "    #MyRawData['timestamp2'] = MyRawData['timestamp2'].dt.date\n",
    "    #MyRawData['timestamp2'] = pd.to_datetime(MyRawData['timestamp2'])\n",
    "    MyRawData['WeekDay'] = (MyRawData['timestamp'].dt.dayofweek.astype(dtype=np.int64)/4)\n",
    "    MyRawData['Hour'] = (MyRawData['timestamp'].dt.hour.astype(dtype=np.int64)/23)\n",
    "    MyRawData['Minute'] = (MyRawData['timestamp'].dt.minute.astype(dtype=np.int64)/59)\n",
    "    if Quite == False: print('Step 1: Time conversion to Weekday, Hour, Minute')\n",
    "    \n",
    "    #calculate candle size parameters in pips\n",
    "    MyRawData['BodyPips'] = abs((MyRawData['open']-MyRawData['close']) * 10000)\n",
    "    MyRawData['WickUpPips'] = (abs(MyRawData['open']-MyRawData['high']) * 10000)\n",
    "    MyRawData['WickDownPips'] = (abs(MyRawData['close']-MyRawData['low']) * 10000)\n",
    "    #calculate candle type\n",
    "    MyRawData['type'] = 0\n",
    "    MyRawData.loc[MyRawData['close'] > MyRawData['open'] , 'type'] = 1\n",
    "    if Quite == False: print('Step 2: Calculation Body,Wicks sizes and type of candle')\n",
    "    \n",
    "    MyRawData['EmaSlow'], MyRawData['EmaFast'], MyRawData['MACD'] = moving_average_convergence(MyRawData['close'].values, nslow=26, nfast=12)                   \n",
    "    if Quite == False: print('Step 3: Calculate MACD')\n",
    "    MyRawData['Ema9'] = moving_average(MyRawData['MACD'].values, 9, type='exponential')\n",
    "    if Quite == False: print('Step 4: Calculate EMA 9')\n",
    "    MyRawData['RSI'] = relative_strength(MyRawData['close'].values) \n",
    "    if Quite == False: print('Step 5: Calculate RSI')\n",
    "\n",
    "    #create two new DataFrame columns to hold values of upper and lower Bollinger bands\n",
    "    MyRawData=MyRawData[::-1]\n",
    "    MyRawData['Rolling Mean'] = MyRawData['close'].rolling(window=21).mean()\n",
    "    MyRawData['Bollinger High'] = MyRawData['close'].rolling(window=21).mean() + (MyRawData['close'].rolling(window=21).std() * 2)\n",
    "    MyRawData['Bollinger Low'] = MyRawData['close'].rolling(window=21).mean() - (MyRawData['close'].rolling(window=21).std() * 2)\n",
    "    MyRawData=MyRawData[::-1]\n",
    "    if Quite == False: print('Step 6: Calculate Bolinger Bands')\n",
    "    \n",
    "    #add 10 more history candle sticks\n",
    "    for CandleCount in range(10):\n",
    "        ActualCandleCount = CandleCount + 1\n",
    "        MyRawData['BodyPips' + '_' + str(ActualCandleCount)] = MyRawData['BodyPips'].shift(-ActualCandleCount)\n",
    "        MyRawData['WickUpPips' + '_' + str(ActualCandleCount)] = MyRawData['WickUpPips'].shift(-ActualCandleCount)\n",
    "        MyRawData['WickDownPips' + '_' + str(ActualCandleCount)] = MyRawData['WickDownPips'].shift(-ActualCandleCount)\n",
    "        MyRawData['WeekDay' + '_' + str(ActualCandleCount)] = MyRawData['WeekDay'].shift(-ActualCandleCount)\n",
    "        MyRawData['Hour' + '_' + str(ActualCandleCount)] = MyRawData['Hour'].shift(-ActualCandleCount)\n",
    "        MyRawData['Minute' + '_' + str(ActualCandleCount)] = MyRawData['Minute'].shift(-ActualCandleCount)\n",
    "        MyRawData['type' + '_' + str(ActualCandleCount)] = MyRawData['type'].shift(-ActualCandleCount)\n",
    "        MyRawData['EmaSlow' + '_' + str(ActualCandleCount)] = MyRawData['EmaSlow'].shift(-ActualCandleCount)\n",
    "        MyRawData['EmaFast' + '_' + str(ActualCandleCount)] = MyRawData['EmaFast'].shift(-ActualCandleCount)\n",
    "        MyRawData['MACD' + '_' + str(ActualCandleCount)] = MyRawData['MACD'].shift(-ActualCandleCount)\n",
    "        MyRawData['Ema9' + '_' + str(ActualCandleCount)] = MyRawData['Ema9'].shift(-ActualCandleCount)\n",
    "        MyRawData['RSI' + '_' + str(ActualCandleCount)] = MyRawData['RSI'].shift(-ActualCandleCount)\n",
    "        MyRawData['Rolling Mean' + '_' + str(ActualCandleCount)] = MyRawData['Rolling Mean'].shift(-ActualCandleCount)\n",
    "        MyRawData['Bollinger High' + '_' + str(ActualCandleCount)] = MyRawData['Bollinger High'].shift(-ActualCandleCount)\n",
    "        MyRawData['Bollinger Low' + '_' + str(ActualCandleCount)] = MyRawData['Bollinger Low'].shift(-ActualCandleCount)\n",
    "        if Quite == False: print('Step 7: Generating candle backwards [Candle: ' + str(ActualCandleCount) +']')\n",
    "\n",
    "\n",
    "    #del MyRawData['timestamp2']\n",
    "    del MyRawData['timestamp']\n",
    "    del MyRawData['open']\n",
    "    del MyRawData['high']\n",
    "    del MyRawData['low']\n",
    "    del MyRawData['close']\n",
    "    if Quite == False: print('Step 9: Deleting waste columns')\n",
    "\n",
    "    return MyRawData\n",
    "\n"
   ]
  },
  {
   "cell_type": "markdown",
   "metadata": {},
   "source": [
    "### Live feature engineering"
   ]
  },
  {
   "cell_type": "code",
   "execution_count": null,
   "metadata": {},
   "outputs": [],
   "source": [
    "\n",
    "current_dataset=FeatureEnginering_AplhaVantage(current_dataset)\n"
   ]
  },
  {
   "cell_type": "markdown",
   "metadata": {},
   "source": [
    "### Show live data"
   ]
  },
  {
   "cell_type": "code",
   "execution_count": null,
   "metadata": {
    "scrolled": true
   },
   "outputs": [],
   "source": [
    "#current_dataset"
   ]
  },
  {
   "cell_type": "markdown",
   "metadata": {},
   "source": [
    "### Get the first row to make prediction"
   ]
  },
  {
   "cell_type": "code",
   "execution_count": null,
   "metadata": {},
   "outputs": [],
   "source": [
    "min_max_scaler = preprocessing.MinMaxScaler()\n",
    "current_dataset = min_max_scaler.fit_transform(current_dataset)\n",
    "current_predict = current_dataset[:1]"
   ]
  },
  {
   "cell_type": "markdown",
   "metadata": {},
   "source": [
    "### Make the live prediction"
   ]
  },
  {
   "cell_type": "code",
   "execution_count": null,
   "metadata": {},
   "outputs": [],
   "source": [
    "prediction_live = model.predict(current_predict)"
   ]
  },
  {
   "cell_type": "code",
   "execution_count": null,
   "metadata": {},
   "outputs": [],
   "source": [
    "if np.argmax(prediction_live[0]) == 0: Type='RED'\n",
    "if np.argmax(prediction_live[0]) == 0: Type='GREEN'\n",
    "if prediction_live[0][0] > 0.99 or prediction_live[0][0] < 0.01:\n",
    "    if  Type=='RED': Action='PUT'\n",
    "    if  Type=='GREEN': Action='CALL'\n",
    "else:\n",
    "    Action='Wait'\n",
    "print('Prediction time: ' + str(prediction_time) + ', Next candle will be: ' + Type + ' for ' + str(round(prediction_live[0][0],5)) + '%' + ' --> Action: ' + Action)"
   ]
  },
  {
   "cell_type": "code",
   "execution_count": null,
   "metadata": {},
   "outputs": [],
   "source": []
  },
  {
   "cell_type": "code",
   "execution_count": null,
   "metadata": {},
   "outputs": [],
   "source": [
    "print('Prediction time: 2019-06-24 11:38:00 Next candle will be: GREEN for 0.89005% Action: Wait')"
   ]
  },
  {
   "cell_type": "markdown",
   "metadata": {},
   "source": [
    "# Total time required to run this notebook:"
   ]
  },
  {
   "cell_type": "code",
   "execution_count": null,
   "metadata": {},
   "outputs": [],
   "source": [
    "Notebook_timer.kill()"
   ]
  },
  {
   "cell_type": "code",
   "execution_count": null,
   "metadata": {},
   "outputs": [],
   "source": []
  },
  {
   "cell_type": "markdown",
   "metadata": {},
   "source": [
    "# Reccurent predictions function:"
   ]
  },
  {
   "cell_type": "code",
   "execution_count": null,
   "metadata": {},
   "outputs": [],
   "source": [
    "import warnings\n",
    "warnings.filterwarnings('ignore')"
   ]
  },
  {
   "cell_type": "code",
   "execution_count": null,
   "metadata": {},
   "outputs": [],
   "source": [
    "def Reccurent_predict():\n",
    "    current_dataset = pd.read_csv('https://www.alphavantage.co/query?function=FX_INTRADAY&from_symbol=EUR&to_symbol=USD&interval=1min&apikey=ZFO5PFRVOX72B03T&datatype=csv')\n",
    "    prediction_time = current_dataset.values[0:1,0:1][0][0]\n",
    "    current_dataset=FeatureEnginering_AplhaVantage(current_dataset, True)\n",
    "    min_max_scaler = preprocessing.MinMaxScaler()\n",
    "    current_dataset = min_max_scaler.fit_transform(current_dataset)\n",
    "    current_predict = current_dataset[:1]\n",
    "    prediction_live = model.predict(current_predict)\n",
    "    if np.argmax(prediction_live[0]) == 0: Type='RED'\n",
    "    if np.argmax(prediction_live[0]) == 0: Type='GREEN'\n",
    "    if prediction_live[0][0] > 0.99:\n",
    "        if  Type=='RED': Action='PUT'\n",
    "        if  Type=='GREEN': Action='CALL'\n",
    "    if prediction_live[0][0] < 0.01:\n",
    "        if  Type=='RED': Action='CALL'\n",
    "        if  Type=='GREEN': Action='PUT'\n",
    "    else:\n",
    "        Action='Wait'\n",
    "    print('Prediction time: ' + str(prediction_time) + ', Next candle will be: ' + Type + ' for ' + str(round(prediction_live[0][0],5)) + '%' + ' --> Action: ' + Action)\n"
   ]
  },
  {
   "cell_type": "code",
   "execution_count": null,
   "metadata": {},
   "outputs": [],
   "source": [
    "Reccurent_predict()"
   ]
  },
  {
   "cell_type": "code",
   "execution_count": null,
   "metadata": {},
   "outputs": [],
   "source": [
    "import time\n",
    "starttime=time.time()\n",
    "while True:\n",
    "    Reccurent_predict()\n",
    "    time.sleep(60.0 - ((time.time() - starttime) % 60.0))"
   ]
  },
  {
   "cell_type": "code",
   "execution_count": null,
   "metadata": {},
   "outputs": [],
   "source": []
  },
  {
   "cell_type": "code",
   "execution_count": null,
   "metadata": {},
   "outputs": [],
   "source": []
  },
  {
   "cell_type": "code",
   "execution_count": null,
   "metadata": {},
   "outputs": [],
   "source": []
  }
 ],
 "metadata": {
  "kernelspec": {
   "display_name": "Python 3",
   "language": "python",
   "name": "python3"
  },
  "language_info": {
   "codemirror_mode": {
    "name": "ipython",
    "version": 3
   },
   "file_extension": ".py",
   "mimetype": "text/x-python",
   "name": "python",
   "nbconvert_exporter": "python",
   "pygments_lexer": "ipython3",
   "version": "3.6.3"
  }
 },
 "nbformat": 4,
 "nbformat_minor": 2
}
