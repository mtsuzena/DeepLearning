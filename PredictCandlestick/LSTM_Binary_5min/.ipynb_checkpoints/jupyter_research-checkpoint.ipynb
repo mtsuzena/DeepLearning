{
 "cells": [
  {
   "cell_type": "markdown",
   "metadata": {},
   "source": [
    "# 5 Min Binary Options Predictions on FX"
   ]
  },
  {
   "cell_type": "markdown",
   "metadata": {},
   "source": [
    "# LSTM method (Long-term short-term memory)"
   ]
  },
  {
   "cell_type": "markdown",
   "metadata": {},
   "source": [
    "## Import required libraries to train LSTM deep nerual network"
   ]
  },
  {
   "cell_type": "code",
   "execution_count": 247,
   "metadata": {},
   "outputs": [
    {
     "name": "stdout",
     "output_type": "stream",
     "text": [
      "Numpy version: 1.16.2\n",
      "Pandas version: 0.24.2\n",
      "Matplotlib version: 3.0.3\n",
      "Sklearn version: 0.20.3\n",
      "Keras version: 2.2.4\n"
     ]
    }
   ],
   "source": [
    "import matplotlib\n",
    "import numpy as np\n",
    "import pandas as pd\n",
    "import itertools\n",
    "import sklearn\n",
    "import keras\n",
    "#import tensorflow\n",
    "import time\n",
    "\n",
    "from sklearn.model_selection import train_test_split\n",
    "from keras.models import Sequential\n",
    "from keras.layers import Dense, Dropout\n",
    "from matplotlib import pyplot as plt\n",
    "from sklearn import preprocessing\n",
    "\n",
    "\n",
    "\n",
    "\n",
    "import matplotlib.pyplot as plt\n",
    "import matplotlib.dates as mdates\n",
    "import matplotlib.ticker as mticker\n",
    "from mpl_finance import candlestick_ohlc\n",
    "import numpy as np\n",
    "import urllib\n",
    "import datetime as dt\n",
    "\n",
    "\n",
    "\n",
    "print('Numpy version: ' + np.__version__)\n",
    "print('Pandas version: ' + pd.__version__)\n",
    "print('Matplotlib version: ' + matplotlib.__version__)\n",
    "print('Sklearn version: ' + sklearn.__version__)\n",
    "print('Keras version: ' + keras.__version__)\n",
    "#print('Tensorflow-gpu version: ' + tensorflow.__version__)"
   ]
  },
  {
   "cell_type": "markdown",
   "metadata": {},
   "source": [
    "### RSI function - Relative strength index"
   ]
  },
  {
   "cell_type": "code",
   "execution_count": 248,
   "metadata": {},
   "outputs": [],
   "source": [
    "def relative_strength(prices, n=14):\n",
    "\n",
    "    deltas = np.diff(prices)\n",
    "    seed = deltas[:n+1]\n",
    "    up = seed[seed >= 0].sum()/n\n",
    "    down = -seed[seed < 0].sum()/n\n",
    "    rs = up/down\n",
    "    rsi = np.zeros_like(prices)\n",
    "    rsi[:n] = 100. - 100./(1. + rs)\n",
    "\n",
    "    for i in range(n, len(prices)):\n",
    "        delta = deltas[i - 1]  # cause the diff is 1 shorter\n",
    "\n",
    "        if delta > 0:\n",
    "            upval = delta\n",
    "            downval = 0.\n",
    "        else:\n",
    "            upval = 0.\n",
    "            downval = -delta\n",
    "\n",
    "        up = (up*(n - 1) + upval)/n\n",
    "        down = (down*(n - 1) + downval)/n\n",
    "\n",
    "        rs = up/down\n",
    "        rsi[i] = 100. - 100./(1. + rs)\n",
    "\n",
    "    return rsi"
   ]
  },
  {
   "cell_type": "markdown",
   "metadata": {},
   "source": [
    "## Main feature enginering function"
   ]
  },
  {
   "cell_type": "code",
   "execution_count": 249,
   "metadata": {},
   "outputs": [],
   "source": [
    "def FeatureEnginering(MyRawData):\n",
    "\n",
    "\n",
    "    MyRawData['Gmt time'] = pd.to_datetime(MyRawData['Gmt time'], format='%d.%m.%Y %H:%M:%S.000', utc=True)\n",
    "    \n",
    "    no_of_std = 2\n",
    "\n",
    "    MyRawData['MA_30MA'] = MyRawData['Close'].rolling(window=30).mean()\n",
    "    MyRawData['MA_30MA_std'] = MyRawData['Close'].rolling(window=30).std() \n",
    "    MyRawData['MA_30MA_BB_high'] = MyRawData['MA_30MA'] + no_of_std * MyRawData['MA_30MA_std']\n",
    "    MyRawData['MA_30MA_BB_low'] = MyRawData['MA_30MA'] - no_of_std * MyRawData['MA_30MA_std']\n",
    "\n",
    "    MyRawData['RSI'] =relative_strength(MyRawData['Close'])\n",
    "\n",
    "    del MyRawData['Volume']\n",
    "    del MyRawData['Gmt time']\n",
    "\n",
    "    return MyRawData\n",
    "\n"
   ]
  },
  {
   "cell_type": "markdown",
   "metadata": {},
   "source": [
    "# Function to plot candlesticks"
   ]
  },
  {
   "cell_type": "code",
   "execution_count": 250,
   "metadata": {},
   "outputs": [],
   "source": [
    "def graph_data_ohlc(dataset):\n",
    "    fig = plt.figure()\n",
    "    ax1 = plt.subplot2grid((1,1), (0,0))\n",
    "    closep=dataset[:,[3]]\n",
    "    highp=dataset[:,[1]]\n",
    "    lowp=dataset[:,[2]]\n",
    "    openp=dataset[:,[0]]\n",
    "    date=range(len(closep))\n",
    "    MA_30MA = dataset[:,[4]]\n",
    "    MA_30MA_std = dataset[:,[5]]\n",
    "    MA_30MA_BB_low = dataset[:,[6]]\n",
    "    MA_30MA_BB_high = dataset[:,[7]]\n",
    "    RSI = dataset[:,[8]]\n",
    "    \n",
    "    \n",
    "    x = 0\n",
    "    y = len(date)\n",
    "    ohlc = []\n",
    "    while x < y:\n",
    "        append_me = date[x], openp[x], highp[x], lowp[x], closep[x]\n",
    "        ohlc.append(append_me)\n",
    "        x+=1\n",
    "    candlestick_ohlc(ax1, ohlc, width=0.4, colorup='#77d879', colordown='#db3f3f')\n",
    "    for label in ax1.xaxis.get_ticklabels():\n",
    "        label.set_rotation(45)\n",
    "    ax1.xaxis.set_major_locator(mticker.MaxNLocator(10))\n",
    "    ax1.grid(True)\n",
    "    plt.xlabel('Candle')\n",
    "    plt.ylabel('Price')\n",
    "    plt.title('Candlestick sample representation')\n",
    "    plt.legend()\n",
    "    \n",
    "    ax1.plot(date, MA_30MA)\n",
    "    ax1.plot(date, MA_30MA_BB_low)\n",
    "    ax1.plot(date, MA_30MA_BB_high)\n",
    "    \n",
    "    plt.subplots_adjust(left=0.09, bottom=0.20, right=0.94, top=0.90, wspace=0.2, hspace=0)\n",
    "    plt.show()"
   ]
  },
  {
   "cell_type": "markdown",
   "metadata": {},
   "source": [
    "# Load the dataset"
   ]
  },
  {
   "cell_type": "code",
   "execution_count": 299,
   "metadata": {},
   "outputs": [],
   "source": [
    "df = pd.read_csv(r'D:\\Users\\Mike\\Desktop\\FX data min\\EURUSD_2010_2018.csv')\n"
   ]
  },
  {
   "cell_type": "code",
   "execution_count": 300,
   "metadata": {},
   "outputs": [],
   "source": [
    "data_set = FeatureEnginering(df)"
   ]
  },
  {
   "cell_type": "code",
   "execution_count": null,
   "metadata": {},
   "outputs": [],
   "source": []
  },
  {
   "cell_type": "code",
   "execution_count": 301,
   "metadata": {},
   "outputs": [],
   "source": [
    "data_set = data_set.values"
   ]
  },
  {
   "cell_type": "code",
   "execution_count": 302,
   "metadata": {},
   "outputs": [],
   "source": [
    "min_max_scaler = preprocessing.MinMaxScaler()\n",
    "data_set = min_max_scaler.fit_transform(data_set)"
   ]
  },
  {
   "cell_type": "code",
   "execution_count": 303,
   "metadata": {},
   "outputs": [
    {
     "data": {
      "text/plain": [
       "array([[0.86765539, 0.8668916 , 0.86825082, ...,        nan,        nan,\n",
       "        0.56961245],\n",
       "       [0.86732872, 0.86693513, 0.8682726 , ...,        nan,        nan,\n",
       "        0.56961245],\n",
       "       [0.86759005, 0.8668263 , 0.8682726 , ...,        nan,        nan,\n",
       "        0.56961245],\n",
       "       ...,\n",
       "       [0.2439784 , 0.24414454, 0.24472372, ..., 0.2411548 , 0.24593695,\n",
       "        0.76391139],\n",
       "       [0.24454462, 0.24407923, 0.2446366 , ..., 0.24117928, 0.24594448,\n",
       "        0.58834511],\n",
       "       [0.24395662, 0.24349151, 0.24446235, ..., 0.24117186, 0.24594026,\n",
       "        0.51080761]])"
      ]
     },
     "execution_count": 303,
     "metadata": {},
     "output_type": "execute_result"
    }
   ],
   "source": [
    "data_set"
   ]
  },
  {
   "cell_type": "code",
   "execution_count": 304,
   "metadata": {},
   "outputs": [],
   "source": [
    "def generator(data, lookback, delay, min_index, max_index,\n",
    "              shuffle=False, batch_size=128, step=6):\n",
    "    if max_index is None:\n",
    "        max_index = len(data) - delay - 1\n",
    "    i = min_index + lookback\n",
    "    while 1:\n",
    "        if shuffle:\n",
    "            rows = np.random.randint(\n",
    "                min_index + lookback, max_index, size=batch_size)\n",
    "        else:\n",
    "            if i + batch_size >= max_index:\n",
    "                i = min_index + lookback\n",
    "            rows = np.arange(i, min(i + batch_size, max_index))\n",
    "            i += len(rows)\n",
    "\n",
    "        samples = np.zeros((len(rows),\n",
    "                           lookback // step,\n",
    "                           data.shape[-1]))\n",
    "        targets = np.zeros((len(rows),))\n",
    "        for j, row in enumerate(rows):\n",
    "            indices = range(rows[j] - lookback, rows[j], step)\n",
    "            samples[j] = data[indices]\n",
    "            \n",
    "            if data[rows[j] + delay][3] > data[rows[j]][3]:\n",
    "                targets[j] = 1\n",
    "            else:\n",
    "                targets[j] = 0\n",
    "        yield samples, targets"
   ]
  },
  {
   "cell_type": "code",
   "execution_count": 305,
   "metadata": {},
   "outputs": [],
   "source": [
    "lookback = 20\n",
    "step = 1\n",
    "delay = 5\n",
    "batch_size = 500\n",
    "\n",
    "train_gen = generator(data_set,\n",
    "                      lookback=lookback,\n",
    "                      delay=delay,\n",
    "                      min_index=0,\n",
    "                      max_index=200000,\n",
    "                      shuffle=True,\n",
    "                      step=step, \n",
    "                      batch_size=batch_size)\n",
    "val_gen = generator(data_set,\n",
    "                    lookback=lookback,\n",
    "                    delay=delay,\n",
    "                    min_index=200001,\n",
    "                    max_index=300000,\n",
    "                    step=step,\n",
    "                    batch_size=batch_size)\n",
    "test_gen = generator(data_set,\n",
    "                     lookback=lookback,\n",
    "                     delay=delay,\n",
    "                     min_index=300001,\n",
    "                     max_index=None,\n",
    "                     step=step,\n",
    "                     batch_size=batch_size)\n",
    "\n",
    "# Liczba kroków pobierania danych z obiektu val_gen \n",
    "# zapewniających przetworzenie całego walidacyjnego zbioru danych.\n",
    "val_steps = (300000 - 200001 - lookback) // batch_size\n",
    "\n",
    "# Liczba kroków pobierania danych z obiektu test_gen, \n",
    "# przy której przetworzony zostanie cały testowy zbiór danych.\n",
    "test_steps = (len(data_set) - 300001 - lookback) // batch_size"
   ]
  },
  {
   "cell_type": "code",
   "execution_count": 306,
   "metadata": {},
   "outputs": [],
   "source": [
    "def testooos():\n",
    "    test = next(train_gen)\n",
    "    graph_data_ohlc(test[0][0])"
   ]
  },
  {
   "cell_type": "code",
   "execution_count": null,
   "metadata": {},
   "outputs": [
    {
     "name": "stdout",
     "output_type": "stream",
     "text": [
      "(array([[[0.42869899, 0.42818894, 0.42878923, ..., 0.42565382,\n",
      "         0.43079872, 0.58441303],\n",
      "        [0.42872076, 0.42825424, 0.42861499, ..., 0.42563952,\n",
      "         0.43083925, 0.47277399],\n",
      "        [0.42837232, 0.4278842 , 0.42852787, ..., 0.42567922,\n",
      "         0.43085336, 0.56539035],\n",
      "        ...,\n",
      "        [0.42658652, 0.42612103, 0.42695968, ..., 0.42601564,\n",
      "         0.4298525 , 0.39388392],\n",
      "        [0.42658652, 0.42612103, 0.42695968, ..., 0.42598148,\n",
      "         0.4297382 , 0.35433519],\n",
      "        [0.4264123 , 0.42609926, 0.4269379 , ..., 0.42592932,\n",
      "         0.42965938, 0.38970583]],\n",
      "\n",
      "       [[0.68084411, 0.68149761, 0.68159345, ..., 0.68000954,\n",
      "         0.68284796, 0.6158391 ],\n",
      "        [0.68149745, 0.68147584, 0.68150633, ..., 0.68005602,\n",
      "         0.68285966, 0.57474762],\n",
      "        [0.68127967, 0.68104049, 0.68107072, ..., 0.68004834,\n",
      "         0.68284697, 0.50216663],\n",
      "        ...,\n",
      "        [0.68138856, 0.6813017 , 0.6812014 , ..., 0.67999343,\n",
      "         0.68300097, 0.55599916],\n",
      "        [0.68160634, 0.68232477, 0.68133208, ..., 0.68011458,\n",
      "         0.68298011, 0.58974846],\n",
      "        [0.68210723, 0.68178058, 0.68185481, ..., 0.68014694,\n",
      "         0.68299576, 0.523294  ]],\n",
      "\n",
      "       [[0.70286162, 0.70289508, 0.70365692, ..., 0.70333669,\n",
      "         0.70683684, 0.4471168 ],\n",
      "        [0.70325363, 0.70311276, 0.70394006, ..., 0.70324231,\n",
      "         0.70700706, 0.44937321],\n",
      "        [0.70340607, 0.70311276, 0.70370048, ..., 0.70318543,\n",
      "         0.70711353, 0.44937321],\n",
      "        ...,\n",
      "        [0.70486519, 0.7050283 , 0.70546468, ..., 0.70286622,\n",
      "         0.70722351, 0.62170732],\n",
      "        [0.70536609, 0.70498476, 0.70574783, ..., 0.70297386,\n",
      "         0.70717251, 0.64288738],\n",
      "        [0.70549676, 0.70522421, 0.70592207, ..., 0.70302578,\n",
      "         0.70714235, 0.6534021 ]],\n",
      "\n",
      "       ...,\n",
      "\n",
      "       [[0.61261379, 0.61284284, 0.61241914, ..., 0.61404895,\n",
      "         0.61633391, 0.30341999],\n",
      "        [0.61159023, 0.611798  , 0.61161327, ..., 0.61413934,\n",
      "         0.61611817, 0.32489093],\n",
      "        [0.61202579, 0.61247279, 0.6122449 , ..., 0.61415254,\n",
      "         0.61608457, 0.39734061],\n",
      "        ...,\n",
      "        [0.61071911, 0.61062255, 0.61061137, ..., 0.61403834,\n",
      "         0.61293731, 0.36572734],\n",
      "        [0.61026177, 0.60994776, 0.61032823, ..., 0.61378754,\n",
      "         0.6128259 , 0.36768634],\n",
      "        [0.61045777, 0.61062255, 0.61056781, ..., 0.61348591,\n",
      "         0.6128149 , 0.42876928]],\n",
      "\n",
      "       [[0.71126791, 0.71136265, 0.71173742, ..., 0.71026673,\n",
      "         0.71482187, 0.52378182],\n",
      "        [0.71159458, 0.71151502, 0.71202056, ..., 0.71027074,\n",
      "         0.71483533, 0.5209785 ],\n",
      "        [0.71142036, 0.71123204, 0.71119291, ..., 0.71027333,\n",
      "         0.7148473 , 0.51503838],\n",
      "        ...,\n",
      "        [0.71361993, 0.71312582, 0.71374121, ..., 0.71103066,\n",
      "         0.7145432 , 0.6946729 ],\n",
      "        [0.71307548, 0.71303875, 0.71354518, ..., 0.71112488,\n",
      "         0.71460611, 0.6247182 ],\n",
      "        [0.71263992, 0.71284284, 0.71313136, ..., 0.71115721,\n",
      "         0.71475866, 0.61359478]],\n",
      "\n",
      "       [[0.44459689, 0.44444928, 0.44479777, ..., 0.44377625,\n",
      "         0.44726039, 0.41150921],\n",
      "        [0.44479289, 0.44429691, 0.44349095, ..., 0.4436951 ,\n",
      "         0.44710431, 0.34672872],\n",
      "        [0.44342088, 0.44373095, 0.44390478, ..., 0.44366463,\n",
      "         0.44702416, 0.42576938],\n",
      "        ...,\n",
      "        [0.44326844, 0.44294732, 0.44331671, ..., 0.44341877,\n",
      "         0.44469166, 0.44698039],\n",
      "        [0.44291999, 0.44257727, 0.44312068, ..., 0.44339607,\n",
      "         0.44458625, 0.40992594],\n",
      "        [0.44235376, 0.44225076, 0.44279398, ..., 0.44335938,\n",
      "         0.44451524, 0.44073319]]]), array([1., 1., 0., 0., 1., 1., 1., 0., 0., 1., 0., 0., 0., 0., 0., 1., 0.,\n",
      "       0., 0., 1., 0., 1., 1., 0., 0., 1., 1., 0., 1., 1., 0., 1., 1., 1.,\n",
      "       1., 0., 0., 1., 1., 0., 1., 0., 0., 0., 1., 1., 0., 1., 1., 0., 0.,\n",
      "       0., 1., 1., 1., 1., 1., 1., 1., 0., 0., 0., 0., 0., 0., 0., 0., 1.,\n",
      "       1., 1., 1., 0., 0., 0., 0., 1., 1., 0., 0., 1., 1., 1., 0., 1., 0.,\n",
      "       1., 1., 0., 0., 1., 0., 0., 0., 0., 0., 0., 1., 0., 1., 1., 0., 0.,\n",
      "       1., 0., 1., 1., 0., 1., 0., 0., 1., 0., 0., 1., 1., 0., 1., 0., 0.,\n",
      "       1., 1., 0., 1., 0., 1., 0., 1., 1., 0., 0., 1., 0., 0., 0., 1., 0.,\n",
      "       0., 0., 0., 1., 1., 0., 1., 1., 1., 1., 1., 0., 0., 1., 0., 0., 1.,\n",
      "       1., 1., 0., 1., 1., 1., 0., 1., 1., 0., 1., 0., 0., 0., 0., 0., 0.,\n",
      "       0., 1., 1., 0., 0., 1., 0., 0., 0., 0., 1., 0., 1., 1., 0., 0., 1.,\n",
      "       1., 1., 1., 1., 1., 1., 0., 0., 1., 0., 1., 1., 0., 1., 0., 1., 0.,\n",
      "       0., 1., 0., 0., 0., 0., 1., 0., 1., 1., 1., 0., 1., 1., 1., 1., 0.,\n",
      "       1., 0., 0., 1., 1., 0., 1., 0., 1., 1., 0., 0., 1., 1., 0., 0., 0.,\n",
      "       1., 0., 1., 1., 1., 1., 0., 1., 0., 1., 1., 1., 1., 0., 1., 0., 1.,\n",
      "       0., 0., 1., 1., 1., 0., 1., 0., 0., 1., 0., 0., 0., 0., 1., 1., 0.,\n",
      "       0., 0., 1., 1., 0., 1., 0., 1., 0., 0., 0., 0., 0., 0., 0., 0., 1.,\n",
      "       1., 1., 1., 0., 0., 1., 1., 0., 1., 0., 0., 1., 0., 1., 1., 1., 1.,\n",
      "       1., 1., 1., 1., 0., 0., 0., 0., 1., 1., 0., 1., 0., 1., 1., 1., 0.,\n",
      "       1., 1., 1., 1., 0., 0., 0., 0., 0., 1., 0., 0., 1., 0., 0., 1., 1.,\n",
      "       1., 0., 0., 0., 0., 0., 0., 1., 1., 0., 1., 0., 0., 1., 0., 0., 1.,\n",
      "       0., 0., 1., 0., 0., 1., 0., 1., 1., 0., 0., 0., 0., 0., 0., 1., 1.,\n",
      "       0., 0., 1., 0., 0., 1., 1., 1., 0., 1., 1., 1., 1., 0., 1., 0., 1.,\n",
      "       1., 0., 1., 1., 1., 1., 0., 1., 0., 1., 1., 0., 1., 1., 0., 1., 1.,\n",
      "       1., 0., 0., 1., 0., 1., 0., 1., 1., 0., 0., 0., 1., 0., 1., 0., 0.,\n",
      "       1., 0., 0., 1., 0., 1., 0., 1., 0., 0., 1., 0., 0., 0., 0., 1., 0.,\n",
      "       1., 1., 1., 1., 1., 0., 1., 0., 0., 0., 0., 0., 1., 0., 0., 1., 0.,\n",
      "       1., 1., 1., 1., 0., 0., 1., 0., 1., 0., 1., 0., 1., 1., 1., 0., 1.,\n",
      "       0., 0., 1., 0., 0., 1., 1., 1., 0., 0., 1., 0., 1., 0., 0., 1., 1.,\n",
      "       1., 1., 1., 1., 1., 0., 0.]))\n"
     ]
    }
   ],
   "source": [
    "print(next(train_gen))"
   ]
  },
  {
   "cell_type": "markdown",
   "metadata": {},
   "source": [
    "import time\n",
    "starttime=time.time()\n",
    "while True:\n",
    "    testooos()\n",
    "    time.sleep(1.0 - ((time.time() - starttime) % 1.0))"
   ]
  },
  {
   "cell_type": "code",
   "execution_count": null,
   "metadata": {},
   "outputs": [],
   "source": [
    "###### from keras.models import Sequential\n",
    "from keras import layers\n",
    "from keras.optimizers import RMSprop\n",
    "\n",
    "model = Sequential()\n",
    "model.add(layers.LSTM(256,dropout=0.2,recurrent_dropout=0.2,input_shape=(None, data_set.shape[-1]),activation='sigmoid', inner_activation='hard_sigmoid'))\n",
    "model.add(Dropout(0.5))\n",
    "model.add(LSTM(output_dim=256, activation='sigmoid', inner_activation='hard_sigmoid'))\n",
    "model.add(Dense(1, activation='sigmoid'))\n",
    "\n",
    "\n",
    "model.compile(optimizer=RMSprop(), loss='binary_crossentropy')\n",
    "history = model.fit_generator(train_gen,\n",
    "                              steps_per_epoch=500,\n",
    "                              epochs=200,\n",
    "                              validation_data=val_gen,\n",
    "                              validation_steps=val_steps)\n",
    "\n"
   ]
  },
  {
   "cell_type": "code",
   "execution_count": null,
   "metadata": {},
   "outputs": [],
   "source": []
  },
  {
   "cell_type": "code",
   "execution_count": null,
   "metadata": {},
   "outputs": [],
   "source": []
  },
  {
   "cell_type": "code",
   "execution_count": null,
   "metadata": {},
   "outputs": [],
   "source": []
  }
 ],
 "metadata": {
  "kernelspec": {
   "display_name": "Python 3",
   "language": "python",
   "name": "python3"
  },
  "language_info": {
   "codemirror_mode": {
    "name": "ipython",
    "version": 3
   },
   "file_extension": ".py",
   "mimetype": "text/x-python",
   "name": "python",
   "nbconvert_exporter": "python",
   "pygments_lexer": "ipython3",
   "version": "3.7.3"
  }
 },
 "nbformat": 4,
 "nbformat_minor": 2
}
